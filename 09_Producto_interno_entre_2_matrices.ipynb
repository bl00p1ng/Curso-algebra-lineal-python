{
  "nbformat": 4,
  "nbformat_minor": 0,
  "metadata": {
    "colab": {
      "name": "09-Producto_interno_entre_2_matrices.ipynb",
      "provenance": [],
      "authorship_tag": "ABX9TyN4z0G4CsoVTXqJfoVho/aR",
      "include_colab_link": true
    },
    "kernelspec": {
      "name": "python3",
      "display_name": "Python 3"
    },
    "language_info": {
      "name": "python"
    }
  },
  "cells": [
    {
      "cell_type": "markdown",
      "metadata": {
        "id": "view-in-github",
        "colab_type": "text"
      },
      "source": [
        "<a href=\"https://colab.research.google.com/github/bl00p1ng/Curso-algebra-lineal-python/blob/main/09_Producto_interno_entre_2_matrices.ipynb\" target=\"_parent\"><img src=\"https://colab.research.google.com/assets/colab-badge.svg\" alt=\"Open In Colab\"/></a>"
      ]
    },
    {
      "cell_type": "code",
      "metadata": {
        "id": "VqodciF8F8u4"
      },
      "source": [
        "import numpy as np"
      ],
      "execution_count": null,
      "outputs": []
    },
    {
      "cell_type": "code",
      "metadata": {
        "id": "BT_ddA-xGMhj"
      },
      "source": [
        "A = np.array([[1,2,3], [4,5,6], [7,8,9], [10,11,12]])\n",
        "B = np.array([[2,3], [5,7], [11, 13]])"
      ],
      "execution_count": null,
      "outputs": []
    },
    {
      "cell_type": "code",
      "metadata": {
        "colab": {
          "base_uri": "https://localhost:8080/"
        },
        "id": "tyeDyJk8GkRj",
        "outputId": "aeb3a41b-39de-4859-dddd-b61ae4c5c40b"
      },
      "source": [
        "print('A:', A.shape)\n",
        "print('B:', B.shape)"
      ],
      "execution_count": null,
      "outputs": [
        {
          "output_type": "stream",
          "text": [
            "A: (4, 3)\n",
            "B: (3, 2)\n"
          ],
          "name": "stdout"
        }
      ]
    },
    {
      "cell_type": "markdown",
      "metadata": {
        "id": "XjmpObysHSsE"
      },
      "source": [
        "En el caso de `A.dot(B)` el producto interno esta definido porque las dimenciones de las matrices están alineadas: (4, **3**) y (**3**, 2)"
      ]
    },
    {
      "cell_type": "code",
      "metadata": {
        "colab": {
          "base_uri": "https://localhost:8080/"
        },
        "id": "qpog50NHGxcH",
        "outputId": "79bdc7ac-6ee5-412a-fe0e-b3140876d9ff"
      },
      "source": [
        "C = A.dot(B)\n",
        "C"
      ],
      "execution_count": null,
      "outputs": [
        {
          "output_type": "execute_result",
          "data": {
            "text/plain": [
              "array([[ 45,  56],\n",
              "       [ 99, 125],\n",
              "       [153, 194],\n",
              "       [207, 263]])"
            ]
          },
          "metadata": {
            "tags": []
          },
          "execution_count": 4
        }
      ]
    },
    {
      "cell_type": "markdown",
      "metadata": {
        "id": "iB0MJbiiIAfB"
      },
      "source": [
        "En el caso de `B.dot(A)` el producto interno **NO** esta definido porque las dimenciones de las matrices no están alineadas: (3, **2**) y (**4**, 3)"
      ]
    },
    {
      "cell_type": "code",
      "metadata": {
        "colab": {
          "base_uri": "https://localhost:8080/",
          "height": 180
        },
        "id": "O7B8z1H8G9kU",
        "outputId": "b820e464-1a53-4d12-8a56-68d0f018bf4c"
      },
      "source": [
        "D = B.dot(A)\n",
        "D"
      ],
      "execution_count": null,
      "outputs": [
        {
          "output_type": "error",
          "ename": "ValueError",
          "evalue": "ignored",
          "traceback": [
            "\u001b[0;31m---------------------------------------------------------------------------\u001b[0m",
            "\u001b[0;31mValueError\u001b[0m                                Traceback (most recent call last)",
            "\u001b[0;32m<ipython-input-5-ea7c0d58bada>\u001b[0m in \u001b[0;36m<module>\u001b[0;34m()\u001b[0m\n\u001b[0;32m----> 1\u001b[0;31m \u001b[0mD\u001b[0m \u001b[0;34m=\u001b[0m \u001b[0mB\u001b[0m\u001b[0;34m.\u001b[0m\u001b[0mdot\u001b[0m\u001b[0;34m(\u001b[0m\u001b[0mA\u001b[0m\u001b[0;34m)\u001b[0m\u001b[0;34m\u001b[0m\u001b[0;34m\u001b[0m\u001b[0m\n\u001b[0m\u001b[1;32m      2\u001b[0m \u001b[0mD\u001b[0m\u001b[0;34m\u001b[0m\u001b[0;34m\u001b[0m\u001b[0m\n",
            "\u001b[0;31mValueError\u001b[0m: shapes (3,2) and (4,3) not aligned: 2 (dim 1) != 4 (dim 0)"
          ]
        }
      ]
    }
  ]
}