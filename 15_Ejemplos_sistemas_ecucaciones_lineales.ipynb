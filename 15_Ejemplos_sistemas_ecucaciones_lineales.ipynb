{
  "nbformat": 4,
  "nbformat_minor": 0,
  "metadata": {
    "colab": {
      "name": "15-Ejemplos-sistemas-ecucaciones-lineales.ipynb",
      "provenance": [],
      "collapsed_sections": [],
      "authorship_tag": "ABX9TyOOaTljQqFVVkXHgtOeTpsz",
      "include_colab_link": true
    },
    "kernelspec": {
      "name": "python3",
      "display_name": "Python 3"
    },
    "language_info": {
      "name": "python"
    }
  },
  "cells": [
    {
      "cell_type": "markdown",
      "metadata": {
        "id": "view-in-github",
        "colab_type": "text"
      },
      "source": [
        "<a href=\"https://colab.research.google.com/github/bl00p1ng/Curso-algebra-lineal-python/blob/main/15_Ejemplos_sistemas_ecucaciones_lineales.ipynb\" target=\"_parent\"><img src=\"https://colab.research.google.com/assets/colab-badge.svg\" alt=\"Open In Colab\"/></a>"
      ]
    },
    {
      "cell_type": "markdown",
      "metadata": {
        "id": "v2s-fI0589r3"
      },
      "source": [
        "# Clase 15. Ejemplos de sistemas sin solución, con una solución y con infinitas soluciones"
      ]
    },
    {
      "cell_type": "code",
      "metadata": {
        "id": "DLHRu6_NTwXV"
      },
      "source": [
        "import numpy as np\n",
        "import matplotlib.pyplot as plt"
      ],
      "execution_count": 1,
      "outputs": []
    },
    {
      "cell_type": "markdown",
      "metadata": {
        "id": "7SAvKCNJT_X6"
      },
      "source": [
        "## Sistemas sin solución\n",
        "\n",
        "$$y=3x+5 \\\\\n",
        "y=-1x+3 \\\\\n",
        "y=2x+1$$"
      ]
    },
    {
      "cell_type": "code",
      "metadata": {
        "id": "WDfqJdGmUJt7"
      },
      "source": [
        "x = np.arange(-6, 6)\n",
        "\n",
        "y_1 = 3 * x + 5\n",
        "y_2 = -x + 3\n",
        "y_3 = 2 * x + 1"
      ],
      "execution_count": 2,
      "outputs": []
    },
    {
      "cell_type": "code",
      "metadata": {
        "colab": {
          "base_uri": "https://localhost:8080/",
          "height": 269
        },
        "id": "ASJrH-XGUvn1",
        "outputId": "ea7228eb-4514-4546-ee8e-72c3fe5baa4e"
      },
      "source": [
        "plt.figure()\n",
        "\n",
        "plt.plot(x, y_1)\n",
        "plt.plot(x, y_2)\n",
        "plt.plot(x, y_3)\n",
        "\n",
        "plt.xlim(-8, 8)\n",
        "plt.ylim(-8, 8)\n",
        "\n",
        "plt.axvline(x=0, color='gray')\n",
        "plt.axhline(y=0, color='gray')\n",
        "\n",
        "plt.show()"
      ],
      "execution_count": 3,
      "outputs": [
        {
          "output_type": "display_data",
          "data": {
            "image/png": "[encoded data removed]",
            "text/plain": [
              "<Figure size 432x288 with 1 Axes>"
            ]
          },
          "metadata": {
            "tags": [],
            "needs_background": "light"
          }
        }
      ]
    },
    {
      "cell_type": "markdown",
      "metadata": {
        "id": "hxgZdP-KXrDd"
      },
      "source": [
        "Al ver las gráficas se puede percibir que no hay ningún punto en $x$ y $y$ que haga ciertas estas ecuaciones al mismo tiempo, de lo contrario las 3 líneas se cruzarían en único punto"
      ]
    },
    {
      "cell_type": "markdown",
      "metadata": {
        "id": "GH9AmwzBYu_x"
      },
      "source": [
        "## Sistemas con una solución"
      ]
    },
    {
      "cell_type": "code",
      "metadata": {
        "id": "coBEXJwFZYEv"
      },
      "source": [
        "x = np.arange(-6, 6)\n",
        "\n",
        "y_2 = -1 * x + 3\n",
        "y_3 = 2 * x + 1"
      ],
      "execution_count": 5,
      "outputs": []
    },
    {
      "cell_type": "code",
      "metadata": {
        "colab": {
          "base_uri": "https://localhost:8080/",
          "height": 269
        },
        "id": "lQWvQiebZjvk",
        "outputId": "3be0a02d-f2ba-442d-d908-1904f5badfcd"
      },
      "source": [
        "plt.figure()\n",
        "\n",
        "plt.plot(x, y_2)\n",
        "plt.plot(x, y_3)\n",
        "\n",
        "plt.xlim(-8, 8)\n",
        "plt.ylim(-8, 8)\n",
        "\n",
        "plt.axvline(x=0, color='gray')\n",
        "plt.axhline(y=0, color='gray')\n",
        "\n",
        "plt.show()"
      ],
      "execution_count": 6,
      "outputs": [
        {
          "output_type": "display_data",
          "data": {
            "image/png": "[encoded data removed]",
            "text/plain": [
              "<Figure size 432x288 with 1 Axes>"
            ]
          },
          "metadata": {
            "tags": [],
            "needs_background": "light"
          }
        }
      ]
    },
    {
      "cell_type": "markdown",
      "metadata": {
        "id": "Uk9dGkGRZsFT"
      },
      "source": [
        "En la gráfica se puede apreciar que el problema tiene una única solución, puesto que las lineas se cortan en un único punto"
      ]
    },
    {
      "cell_type": "markdown",
      "metadata": {
        "id": "PugyP4WnZ_Nl"
      },
      "source": [
        "## Sistemas con infinitas soluciones"
      ]
    },
    {
      "cell_type": "code",
      "metadata": {
        "id": "-IaYnyT-aGRB"
      },
      "source": [
        "x = np.arange(-6, 6)\n",
        "\n",
        "y_3 = 2 * x + 1"
      ],
      "execution_count": 7,
      "outputs": []
    },
    {
      "cell_type": "code",
      "metadata": {
        "colab": {
          "base_uri": "https://localhost:8080/",
          "height": 269
        },
        "id": "6lIMJ1i9bA_5",
        "outputId": "f776ac25-7541-43bf-be64-307cb5d36c86"
      },
      "source": [
        "plt.figure()\n",
        "\n",
        "plt.plot(x, y_3)\n",
        "\n",
        "plt.xlim(-8, 8)\n",
        "plt.ylim(-8, 8)\n",
        "\n",
        "plt.axvline(x=0, color='gray')\n",
        "plt.axhline(y=0, color='gray')\n",
        "\n",
        "plt.show()"
      ],
      "execution_count": 8,
      "outputs": [
        {
          "output_type": "display_data",
          "data": {
            "image/png": "[encoded data removed]",
            "text/plain": [
              "<Figure size 432x288 with 1 Axes>"
            ]
          },
          "metadata": {
            "tags": [],
            "needs_background": "light"
          }
        }
      ]
    },
    {
      "cell_type": "code",
      "metadata": {
        "id": "v-6wtG5nbF_0"
      },
      "source": [
        "Se observa una sola recta en la que cualquier valor de $x$ es una solución posible."
      ],
      "execution_count": null,
      "outputs": []
    }
  ]
}