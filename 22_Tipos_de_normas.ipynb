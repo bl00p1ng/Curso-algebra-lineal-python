{
  "nbformat": 4,
  "nbformat_minor": 0,
  "metadata": {
    "colab": {
      "name": "22-Tipos_de_normas.ipynb",
      "provenance": [],
      "authorship_tag": "ABX9TyNjtTq6tWh5nVGEj9Cq9U4R",
      "include_colab_link": true
    },
    "kernelspec": {
      "name": "python3",
      "display_name": "Python 3"
    },
    "language_info": {
      "name": "python"
    }
  },
  "cells": [
    {
      "cell_type": "markdown",
      "metadata": {
        "id": "view-in-github",
        "colab_type": "text"
      },
      "source": [
        "<a href=\"https://colab.research.google.com/github/bl00p1ng/Curso-algebra-lineal-python/blob/main/22_Tipos_de_normas.ipynb\" target=\"_parent\"><img src=\"https://colab.research.google.com/assets/colab-badge.svg\" alt=\"Open In Colab\"/></a>"
      ]
    },
    {
      "cell_type": "markdown",
      "metadata": {
        "id": "jaZg0Y8pyqxS"
      },
      "source": [
        "# Clase 22. Tipos de normas: norma 0, norma 1, norma 2, norma infinito y norma L2 al cuadrado\n",
        "\n",
        "## Calcular la norma 0\n",
        "\n",
        "El parámetro `ord` define el tipo de norma que se va a usar, en este caso la norma 0. Por defecto usa la norma 2."
      ]
    },
    {
      "cell_type": "code",
      "metadata": {
        "id": "EI6kKP5Wy56r"
      },
      "source": [
        "import numpy as np"
      ],
      "execution_count": 1,
      "outputs": []
    },
    {
      "cell_type": "code",
      "metadata": {
        "colab": {
          "base_uri": "https://localhost:8080/"
        },
        "id": "iJTFIGTuy9M9",
        "outputId": "e9cabc8e-09dd-45d9-f357-eb5d1772d3e0"
      },
      "source": [
        "vector = np.array([1,2,0,5,6,0])\n",
        "\n",
        "np.linalg.norm(vector, ord=0)"
      ],
      "execution_count": 2,
      "outputs": [
        {
          "output_type": "execute_result",
          "data": {
            "text/plain": [
              "4.0"
            ]
          },
          "metadata": {
            "tags": []
          },
          "execution_count": 2
        }
      ]
    },
    {
      "cell_type": "markdown",
      "metadata": {
        "id": "rFHmbgICzL3L"
      },
      "source": [
        "## Calcular la norma 1"
      ]
    },
    {
      "cell_type": "code",
      "metadata": {
        "colab": {
          "base_uri": "https://localhost:8080/"
        },
        "id": "_d64x3j5z0J4",
        "outputId": "ffe26064-a42c-4896-d819-1894f484e472"
      },
      "source": [
        "vector = np.array([1,-1,1,-1,1])\n",
        "\n",
        "np.linalg.norm(vector, ord=1)"
      ],
      "execution_count": 3,
      "outputs": [
        {
          "output_type": "execute_result",
          "data": {
            "text/plain": [
              "5.0"
            ]
          },
          "metadata": {
            "tags": []
          },
          "execution_count": 3
        }
      ]
    },
    {
      "cell_type": "markdown",
      "metadata": {
        "id": "D98Vmual0ah0"
      },
      "source": [
        "## Calcular la norma 2"
      ]
    },
    {
      "cell_type": "code",
      "metadata": {
        "colab": {
          "base_uri": "https://localhost:8080/"
        },
        "id": "PPvquHme0GwG",
        "outputId": "77a09996-5c9b-4366-ac5b-b2181c59b249"
      },
      "source": [
        "vector = np.array([1,1])\n",
        "\n",
        "np.linalg.norm(vector)"
      ],
      "execution_count": 5,
      "outputs": [
        {
          "output_type": "execute_result",
          "data": {
            "text/plain": [
              "1.4142135623730951"
            ]
          },
          "metadata": {
            "tags": []
          },
          "execution_count": 5
        }
      ]
    },
    {
      "cell_type": "markdown",
      "metadata": {
        "id": "FnwBH2y41KVU"
      },
      "source": [
        "## Calcular la norma 2 al cuadrado usando el producto interno"
      ]
    },
    {
      "cell_type": "code",
      "metadata": {
        "colab": {
          "base_uri": "https://localhost:8080/"
        },
        "id": "3IKbiEls1j9Y",
        "outputId": "e04b3ab5-367e-421a-ba32-fd254d7dad27"
      },
      "source": [
        "vector = np.array([1,2,3,4,5,6])\n",
        "\n",
        "(np.linalg.norm(vector)**2)"
      ],
      "execution_count": 7,
      "outputs": [
        {
          "output_type": "execute_result",
          "data": {
            "text/plain": [
              "91.0"
            ]
          },
          "metadata": {
            "tags": []
          },
          "execution_count": 7
        }
      ]
    },
    {
      "cell_type": "code",
      "metadata": {
        "colab": {
          "base_uri": "https://localhost:8080/"
        },
        "id": "D70PbWhe10Oc",
        "outputId": "549c9de6-2237-4b83-f14b-43440ff1edae"
      },
      "source": [
        "vector.T.dot(vector)"
      ],
      "execution_count": 8,
      "outputs": [
        {
          "output_type": "execute_result",
          "data": {
            "text/plain": [
              "91"
            ]
          },
          "metadata": {
            "tags": []
          },
          "execution_count": 8
        }
      ]
    },
    {
      "cell_type": "markdown",
      "metadata": {
        "id": "KwYaWwed2GWd"
      },
      "source": [
        "## Calcular la norma infinito\n",
        "\n",
        "`np.inf` el \"símbolo\" de infinito en Numpy."
      ]
    },
    {
      "cell_type": "code",
      "metadata": {
        "colab": {
          "base_uri": "https://localhost:8080/"
        },
        "id": "Cl8gN9tC2LBr",
        "outputId": "d794b484-2388-4d90-b1e4-deb7ad257155"
      },
      "source": [
        "vector = np.array([1,2,3,-100])\n",
        "\n",
        "np.linalg.norm(vector, ord=np.inf)"
      ],
      "execution_count": 9,
      "outputs": [
        {
          "output_type": "execute_result",
          "data": {
            "text/plain": [
              "100.0"
            ]
          },
          "metadata": {
            "tags": []
          },
          "execution_count": 9
        }
      ]
    }
  ]
}