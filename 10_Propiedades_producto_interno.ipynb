{
  "nbformat": 4,
  "nbformat_minor": 0,
  "metadata": {
    "colab": {
      "name": "10-Propiedades_producto_interno.ipynb",
      "provenance": [],
      "collapsed_sections": [],
      "authorship_tag": "ABX9TyNI29e1531MJOQSHD5s+8Jd",
      "include_colab_link": true
    },
    "kernelspec": {
      "name": "python3",
      "display_name": "Python 3"
    },
    "language_info": {
      "name": "python"
    }
  },
  "cells": [
    {
      "cell_type": "markdown",
      "metadata": {
        "id": "view-in-github",
        "colab_type": "text"
      },
      "source": [
        "<a href=\"https://colab.research.google.com/github/bl00p1ng/Curso-algebra-lineal-python/blob/main/10_Propiedades_producto_interno.ipynb\" target=\"_parent\"><img src=\"https://colab.research.google.com/assets/colab-badge.svg\" alt=\"Open In Colab\"/></a>"
      ]
    },
    {
      "cell_type": "markdown",
      "metadata": {
        "id": "I-rLqFl5neID"
      },
      "source": [
        "# Clase 10. Propiedades de las matrices: la multiplicación de matrices es asociativa y distributiva, no es conmutativa"
      ]
    },
    {
      "cell_type": "code",
      "metadata": {
        "id": "xTbU6cTzmTVg"
      },
      "source": [
        "import numpy as np"
      ],
      "execution_count": null,
      "outputs": []
    },
    {
      "cell_type": "code",
      "metadata": {
        "id": "leu6y781mxCh"
      },
      "source": [
        "A = np.array([[2,3], [5,7], [11,13]])\n",
        "B = np.array([[1,3], [2,1]])\n",
        "C = np.array([[3,1], [4,2]])"
      ],
      "execution_count": null,
      "outputs": []
    },
    {
      "cell_type": "markdown",
      "metadata": {
        "id": "xzlZzLkAnTmd"
      },
      "source": [
        "## Propiedad Asociativa"
      ]
    },
    {
      "cell_type": "code",
      "metadata": {
        "colab": {
          "base_uri": "https://localhost:8080/"
        },
        "id": "j5PuWDkpnoP-",
        "outputId": "cfbd5637-d0f3-4b21-a765-49c8a41977d6"
      },
      "source": [
        "A.dot(B.dot(C))"
      ],
      "execution_count": null,
      "outputs": [
        {
          "output_type": "execute_result",
          "data": {
            "text/plain": [
              "array([[ 60,  26],\n",
              "       [145,  63],\n",
              "       [295, 129]])"
            ]
          },
          "metadata": {
            "tags": []
          },
          "execution_count": 3
        }
      ]
    },
    {
      "cell_type": "code",
      "metadata": {
        "colab": {
          "base_uri": "https://localhost:8080/"
        },
        "id": "8n2zWKIcnw6P",
        "outputId": "77bc137a-7414-40b0-c3d0-aeb53470e26d"
      },
      "source": [
        "A.dot(B).dot(C)"
      ],
      "execution_count": null,
      "outputs": [
        {
          "output_type": "execute_result",
          "data": {
            "text/plain": [
              "array([[ 60,  26],\n",
              "       [145,  63],\n",
              "       [295, 129]])"
            ]
          },
          "metadata": {
            "tags": []
          },
          "execution_count": 4
        }
      ]
    },
    {
      "cell_type": "markdown",
      "metadata": {
        "id": "lqolztQSoCGL"
      },
      "source": [
        "## Propiedad distributiva"
      ]
    },
    {
      "cell_type": "code",
      "metadata": {
        "colab": {
          "base_uri": "https://localhost:8080/"
        },
        "id": "8uO38exEoH2B",
        "outputId": "ca6b6622-92f7-4310-d7a1-3bf149b3e1b9"
      },
      "source": [
        "A.dot(B + C)"
      ],
      "execution_count": null,
      "outputs": [
        {
          "output_type": "execute_result",
          "data": {
            "text/plain": [
              "array([[ 26,  17],\n",
              "       [ 62,  41],\n",
              "       [122,  83]])"
            ]
          },
          "metadata": {
            "tags": []
          },
          "execution_count": 5
        }
      ]
    },
    {
      "cell_type": "code",
      "metadata": {
        "colab": {
          "base_uri": "https://localhost:8080/"
        },
        "id": "vb77_nDloPK-",
        "outputId": "40cd5930-3cfb-47cc-edc7-bb81b665cff2"
      },
      "source": [
        "A.dot(B) + A.dot(C)"
      ],
      "execution_count": null,
      "outputs": [
        {
          "output_type": "execute_result",
          "data": {
            "text/plain": [
              "array([[ 26,  17],\n",
              "       [ 62,  41],\n",
              "       [122,  83]])"
            ]
          },
          "metadata": {
            "tags": []
          },
          "execution_count": 6
        }
      ]
    },
    {
      "cell_type": "markdown",
      "metadata": {
        "id": "nKgkQmIGoWyC"
      },
      "source": [
        "## Propiedad conmutativa"
      ]
    },
    {
      "cell_type": "code",
      "metadata": {
        "colab": {
          "base_uri": "https://localhost:8080/"
        },
        "id": "e0rd6PESolpj",
        "outputId": "357d3d59-383e-4d61-c383-a2f92224ae15"
      },
      "source": [
        "B.dot(C)"
      ],
      "execution_count": null,
      "outputs": [
        {
          "output_type": "execute_result",
          "data": {
            "text/plain": [
              "array([[15,  7],\n",
              "       [10,  4]])"
            ]
          },
          "metadata": {
            "tags": []
          },
          "execution_count": 7
        }
      ]
    },
    {
      "cell_type": "code",
      "metadata": {
        "colab": {
          "base_uri": "https://localhost:8080/"
        },
        "id": "rQ0KKCDNop66",
        "outputId": "e5a33d6b-edf1-4091-c2b8-ecfaf34878e9"
      },
      "source": [
        "C.dot(B)"
      ],
      "execution_count": null,
      "outputs": [
        {
          "output_type": "execute_result",
          "data": {
            "text/plain": [
              "array([[ 5, 10],\n",
              "       [ 8, 14]])"
            ]
          },
          "metadata": {
            "tags": []
          },
          "execution_count": 9
        }
      ]
    },
    {
      "cell_type": "markdown",
      "metadata": {
        "id": "KMtMKhvMouQ6"
      },
      "source": [
        "La multiplicación de vectores **SI** es conmutativa:"
      ]
    },
    {
      "cell_type": "code",
      "metadata": {
        "id": "tfHzeG44pDBe"
      },
      "source": [
        "v1 = np.array([[2], [7]])\n",
        "v2 = np.array([[3], [5]])"
      ],
      "execution_count": null,
      "outputs": []
    },
    {
      "cell_type": "markdown",
      "metadata": {
        "id": "bjHRQ_R1pr6e"
      },
      "source": [
        "Se transpone el vector para hacer coincidir las dimensiones y hacer posible la multiplicación"
      ]
    },
    {
      "cell_type": "code",
      "metadata": {
        "colab": {
          "base_uri": "https://localhost:8080/"
        },
        "id": "kfugxotppZGu",
        "outputId": "29400cf1-99f2-46f4-e88e-00740c4bf757"
      },
      "source": [
        "v1.T.dot(v2)"
      ],
      "execution_count": null,
      "outputs": [
        {
          "output_type": "execute_result",
          "data": {
            "text/plain": [
              "array([[41]])"
            ]
          },
          "metadata": {
            "tags": []
          },
          "execution_count": 11
        }
      ]
    },
    {
      "cell_type": "code",
      "metadata": {
        "colab": {
          "base_uri": "https://localhost:8080/"
        },
        "id": "vQNjvX55pjpi",
        "outputId": "10e1ba0f-f6a6-402c-f05e-487e0b2b0636"
      },
      "source": [
        "v2.T.dot(v1)"
      ],
      "execution_count": null,
      "outputs": [
        {
          "output_type": "execute_result",
          "data": {
            "text/plain": [
              "array([[41]])"
            ]
          },
          "metadata": {
            "tags": []
          },
          "execution_count": 12
        }
      ]
    }
  ]
}