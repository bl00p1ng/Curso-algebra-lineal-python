{
  "nbformat": 4,
  "nbformat_minor": 0,
  "metadata": {
    "colab": {
      "name": "12-Comprobar_sistema_ecuaciones_lineales.ipynb",
      "provenance": [],
      "authorship_tag": "ABX9TyOWZRKeLSUu2j7IjVVkzXbn",
      "include_colab_link": true
    },
    "kernelspec": {
      "name": "python3",
      "display_name": "Python 3"
    },
    "language_info": {
      "name": "python"
    }
  },
  "cells": [
    {
      "cell_type": "markdown",
      "metadata": {
        "id": "view-in-github",
        "colab_type": "text"
      },
      "source": [
        "<a href=\"https://colab.research.google.com/github/bl00p1ng/Curso-algebra-lineal-python/blob/main/12_Comprobar_sistema_ecuaciones_lineales.ipynb\" target=\"_parent\"><img src=\"https://colab.research.google.com/assets/colab-badge.svg\" alt=\"Open In Colab\"/></a>"
      ]
    },
    {
      "cell_type": "markdown",
      "metadata": {
        "id": "KjY2mr5Ddrx9"
      },
      "source": [
        "# Clase 12. Cómo comprobar la solución de un sistema de ecuaciones lineal"
      ]
    },
    {
      "cell_type": "code",
      "metadata": {
        "id": "KTsqE2j3d4y_"
      },
      "source": [
        "import numpy as np\n",
        "import matplotlib.pyplot as plt"
      ],
      "execution_count": 2,
      "outputs": []
    },
    {
      "cell_type": "code",
      "metadata": {
        "id": "cmXcCchYd-UK"
      },
      "source": [
        "x = np.arange(-5, 5)"
      ],
      "execution_count": 3,
      "outputs": []
    },
    {
      "cell_type": "markdown",
      "metadata": {
        "id": "pNHs9-Oef0iX"
      },
      "source": [
        "Se tiene el sistema de ecuaciones:\n",
        "\n",
        "$$y=3x+5 \\\\\n",
        "y=2x+3$$"
      ]
    },
    {
      "cell_type": "code",
      "metadata": {
        "id": "jMiHA79GeaC4"
      },
      "source": [
        "y_1 = 3 * x + 5\n",
        "y_2 = 2 * x + 3"
      ],
      "execution_count": 4,
      "outputs": []
    },
    {
      "cell_type": "code",
      "metadata": {
        "colab": {
          "base_uri": "https://localhost:8080/",
          "height": 282
        },
        "id": "qMSyDvL5egwp",
        "outputId": "6dc29661-65e4-4ed0-e87b-a385ed6a596a"
      },
      "source": [
        "plt.figure()\n",
        "\n",
        "plt.plot(x, y_1)\n",
        "plt.plot(x, y_2)\n",
        "\n",
        "plt.xlim(-5, 5)\n",
        "plt.ylim(-5, 5)\n",
        "\n",
        "plt.axvline(x=0, color='grey')\n",
        "plt.axhline(y=0, color='gray')"
      ],
      "execution_count": 7,
      "outputs": [
        {
          "output_type": "execute_result",
          "data": {
            "text/plain": [
              "<matplotlib.lines.Line2D at 0x7f0148e56e50>"
            ]
          },
          "metadata": {
            "tags": []
          },
          "execution_count": 7
        },
        {
          "output_type": "display_data",
          "data": {
            "image/png": "[encoded data removed]",
            "text/plain": [
              "<Figure size 432x288 with 1 Axes>"
            ]
          },
          "metadata": {
            "tags": [],
            "needs_background": "light"
          }
        }
      ]
    },
    {
      "cell_type": "markdown",
      "metadata": {
        "id": "Dd6cRxkhfLz8"
      },
      "source": [
        "## ¿Qué quiere decir que se junten las 2 rectas?\n",
        "\n",
        "Esto indica que existe un valor de $x$ y un valor de $y$ que hacen verdaderas a las 2 ecuaciones al mismo tiempo.\n",
        "\n",
        "Al despejar manualmente se tiene:\n",
        "\n",
        "$$2x+3=3x+5 \\\\\n",
        "3-5=3x-2x \\\\\n",
        "-2=x$$\n",
        "\n",
        "Al reemplazar para despejar $y$:\n",
        "$$y=2(-2)+3=-4+3=-1 \\\\\n",
        "y=-1$$"
      ]
    },
    {
      "cell_type": "markdown",
      "metadata": {
        "id": "_he6-hGce_QT"
      },
      "source": [
        "## ¿Se puede escribir este sistema de ecuaciones de forma matricial?\n",
        "\n",
        "Si se pasan todas las variables a un lado y al otro lado solo se dejan las constantes lo que queda es:\n",
        "\n",
        "$$-3x+y=5 \\\\\n",
        "-2x+y=3$$\n",
        "\n",
        "Se ponen los coeficientes delante de $x$ en las primer columna y los que están delante de $y$ en la segunda y se saca el producto interno con respecto a $x$ y $y$:\n",
        "\n",
        "$$\\begin{bmatrix}\n",
        "-3 & 1 \\\\\n",
        "-2 & 2 \n",
        "\\end{bmatrix}\n",
        "\\begin{bmatrix}\n",
        "x \\\\\n",
        "y\n",
        "\\end{bmatrix}=\n",
        "\\begin{bmatrix}\n",
        "5 \\\\\n",
        "3\n",
        "\\end{bmatrix}$$\n",
        "\n",
        "Al sacar el producto interno a esta forma matricial queda:\n",
        "\n",
        "$$-3x+1y=5$$\n",
        "\n",
        "La implementación en código seria:"
      ]
    },
    {
      "cell_type": "code",
      "metadata": {
        "colab": {
          "base_uri": "https://localhost:8080/"
        },
        "id": "92thob8NjlWc",
        "outputId": "41f27796-8d21-4840-9456-9114d77409b0"
      },
      "source": [
        "A = np.array([[-3,1], [-2,1]])\n",
        "A"
      ],
      "execution_count": 8,
      "outputs": [
        {
          "output_type": "execute_result",
          "data": {
            "text/plain": [
              "array([[-3,  1],\n",
              "       [-2,  1]])"
            ]
          },
          "metadata": {
            "tags": []
          },
          "execution_count": 8
        }
      ]
    },
    {
      "cell_type": "code",
      "metadata": {
        "colab": {
          "base_uri": "https://localhost:8080/"
        },
        "id": "k00-LDe0jvM5",
        "outputId": "320af184-df94-412b-bdf4-9cd3b6d6a22b"
      },
      "source": [
        "B = np.array([[5], [3]])\n",
        "B"
      ],
      "execution_count": 10,
      "outputs": [
        {
          "output_type": "execute_result",
          "data": {
            "text/plain": [
              "array([[5],\n",
              "       [3]])"
            ]
          },
          "metadata": {
            "tags": []
          },
          "execution_count": 10
        }
      ]
    },
    {
      "cell_type": "code",
      "metadata": {
        "colab": {
          "base_uri": "https://localhost:8080/"
        },
        "id": "VxcRlP_Gj4pG",
        "outputId": "34eecc34-2a42-4b09-fdbd-a37315415260"
      },
      "source": [
        "sol_1 = np.array([-2,-1])\n",
        "sol_1"
      ],
      "execution_count": 11,
      "outputs": [
        {
          "output_type": "execute_result",
          "data": {
            "text/plain": [
              "array([-2, -1])"
            ]
          },
          "metadata": {
            "tags": []
          },
          "execution_count": 11
        }
      ]
    },
    {
      "cell_type": "code",
      "metadata": {
        "colab": {
          "base_uri": "https://localhost:8080/"
        },
        "id": "FvztIRaMkIk_",
        "outputId": "39153cd5-80bf-4dc6-dd90-e29d381d8148"
      },
      "source": [
        "A.dot(sol_1)"
      ],
      "execution_count": 12,
      "outputs": [
        {
          "output_type": "execute_result",
          "data": {
            "text/plain": [
              "array([5, 3])"
            ]
          },
          "metadata": {
            "tags": []
          },
          "execution_count": 12
        }
      ]
    }
  ]
}