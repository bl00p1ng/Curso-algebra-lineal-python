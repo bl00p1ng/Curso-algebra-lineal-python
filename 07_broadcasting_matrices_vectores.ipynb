{
  "nbformat": 4,
  "nbformat_minor": 0,
  "metadata": {
    "colab": {
      "name": "07-broadcasting_matrices_vectores.ipynb",
      "provenance": [],
      "collapsed_sections": [],
      "authorship_tag": "ABX9TyNxgzPIXltAzI4KiErROHy3",
      "include_colab_link": true
    },
    "kernelspec": {
      "name": "python3",
      "display_name": "Python 3"
    },
    "language_info": {
      "name": "python"
    }
  },
  "cells": [
    {
      "cell_type": "markdown",
      "metadata": {
        "id": "view-in-github",
        "colab_type": "text"
      },
      "source": [
        "<a href=\"https://colab.research.google.com/github/bl00p1ng/Curso-algebra-lineal-python/blob/main/07_broadcasting_matrices_vectores.ipynb\" target=\"_parent\"><img src=\"https://colab.research.google.com/assets/colab-badge.svg\" alt=\"Open In Colab\"/></a>"
      ]
    },
    {
      "cell_type": "markdown",
      "metadata": {
        "id": "uNfajJkpH3c1"
      },
      "source": [
        "# Clase 8. Suma de matrices y vectores (broadcasting)"
      ]
    },
    {
      "cell_type": "code",
      "metadata": {
        "id": "18n7JJmfIJel"
      },
      "source": [
        "import numpy as np"
      ],
      "execution_count": 1,
      "outputs": []
    },
    {
      "cell_type": "code",
      "metadata": {
        "id": "kGMBtKywIQQY"
      },
      "source": [
        "scalar = 5.679\n",
        "vector = np.array([3, 4, 5])\n",
        "matrix = np.array([[1,2], [3,4], [5,6]])"
      ],
      "execution_count": 3,
      "outputs": []
    },
    {
      "cell_type": "markdown",
      "metadata": {
        "id": "dSbTucX8I5g3"
      },
      "source": [
        "Al intentar sumar un vector de 3 posiciones a una matriz de 3x2 se obtiene un error dedido a que no hay forma de sumarle a cada elemento de la matriz un valor:"
      ]
    },
    {
      "cell_type": "code",
      "metadata": {
        "colab": {
          "base_uri": "https://localhost:8080/",
          "height": 180
        },
        "id": "MT0pJd_WIhRw",
        "outputId": "7f654232-e2a4-40ce-8bce-0121328b3a8a"
      },
      "source": [
        "A = vector + matrix\n",
        "A"
      ],
      "execution_count": 4,
      "outputs": [
        {
          "output_type": "error",
          "ename": "ValueError",
          "evalue": "ignored",
          "traceback": [
            "\u001b[0;31m---------------------------------------------------------------------------\u001b[0m",
            "\u001b[0;31mValueError\u001b[0m                                Traceback (most recent call last)",
            "\u001b[0;32m<ipython-input-4-8366f3ee24da>\u001b[0m in \u001b[0;36m<module>\u001b[0;34m()\u001b[0m\n\u001b[0;32m----> 1\u001b[0;31m \u001b[0mA\u001b[0m \u001b[0;34m=\u001b[0m \u001b[0mvector\u001b[0m \u001b[0;34m+\u001b[0m \u001b[0mmatrix\u001b[0m\u001b[0;34m\u001b[0m\u001b[0;34m\u001b[0m\u001b[0m\n\u001b[0m\u001b[1;32m      2\u001b[0m \u001b[0mA\u001b[0m\u001b[0;34m\u001b[0m\u001b[0;34m\u001b[0m\u001b[0m\n",
            "\u001b[0;31mValueError\u001b[0m: operands could not be broadcast together with shapes (3,) (3,2) "
          ]
        }
      ]
    },
    {
      "cell_type": "markdown",
      "metadata": {
        "id": "_kHa52wBJnFc"
      },
      "source": [
        "Cuando se efectúa la misma operación con la matriz transpuesta se tiene una matriz de 2x3 sumando a un vector de 3 posiciones. El *Broadcasting* consiste en extender ese vector de 3 pociones duplicándolo para que se pueda sumar un número a cada elemento de la matriz:"
      ]
    },
    {
      "cell_type": "code",
      "metadata": {
        "colab": {
          "base_uri": "https://localhost:8080/"
        },
        "id": "gv6E_KNIJUoz",
        "outputId": "92d2f0cc-3a94-46f4-d3db-77bf0d2dbcea"
      },
      "source": [
        "A = matrix.T + vector\n",
        "A"
      ],
      "execution_count": 5,
      "outputs": [
        {
          "output_type": "execute_result",
          "data": {
            "text/plain": [
              "array([[ 4,  7, 10],\n",
              "       [ 5,  8, 11]])"
            ]
          },
          "metadata": {
            "tags": []
          },
          "execution_count": 5
        }
      ]
    },
    {
      "cell_type": "markdown",
      "metadata": {
        "id": "OFhQo2MAQsKL"
      },
      "source": [
        "Lo mismo ocurre al sumar un escalar a una matriz. El escalar se duplica para que pueda ser sumado a la matriz."
      ]
    },
    {
      "cell_type": "code",
      "metadata": {
        "colab": {
          "base_uri": "https://localhost:8080/"
        },
        "id": "rc_7IYB_Ja4w",
        "outputId": "42b59923-2bfa-4a42-956f-888501d7773f"
      },
      "source": [
        "B = scalar + matrix\n",
        "B"
      ],
      "execution_count": 6,
      "outputs": [
        {
          "output_type": "execute_result",
          "data": {
            "text/plain": [
              "array([[ 6.679,  7.679],\n",
              "       [ 8.679,  9.679],\n",
              "       [10.679, 11.679]])"
            ]
          },
          "metadata": {
            "tags": []
          },
          "execution_count": 6
        }
      ]
    }
  ]
}