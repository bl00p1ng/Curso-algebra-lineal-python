{
  "nbformat": 4,
  "nbformat_minor": 0,
  "metadata": {
    "colab": {
      "name": "04-escalares_vectores_tensores.ipynb",
      "provenance": [],
      "authorship_tag": "ABX9TyOq9/mbFPBq3O4dTS0ED9Sp",
      "include_colab_link": true
    },
    "kernelspec": {
      "name": "python3",
      "display_name": "Python 3"
    },
    "language_info": {
      "name": "python"
    }
  },
  "cells": [
    {
      "cell_type": "markdown",
      "metadata": {
        "id": "view-in-github",
        "colab_type": "text"
      },
      "source": [
        "<a href=\"https://colab.research.google.com/github/bl00p1ng/Curso-algebra-lineal-python/blob/main/04_escalares_vectores_tensores.ipynb\" target=\"_parent\"><img src=\"https://colab.research.google.com/assets/colab-badge.svg\" alt=\"Open In Colab\"/></a>"
      ]
    },
    {
      "cell_type": "markdown",
      "metadata": {
        "id": "Qos6DppAbww1"
      },
      "source": [
        "# Clase 4. Creando las bases, escalares, vectores y matrices. ¿Qué es un tensor? ¿Cómo se representa?"
      ]
    },
    {
      "cell_type": "markdown",
      "metadata": {
        "id": "0LwNhHpOcKzu"
      },
      "source": [
        "## Escalar"
      ]
    },
    {
      "cell_type": "code",
      "metadata": {
        "colab": {
          "base_uri": "https://localhost:8080/"
        },
        "id": "GUiQwhGLbWVc",
        "outputId": "ade1786c-c047-4c4d-d4c8-263e8a68ec9a"
      },
      "source": [
        "scalar = 5.678\n",
        "scalar"
      ],
      "execution_count": null,
      "outputs": [
        {
          "output_type": "execute_result",
          "data": {
            "text/plain": [
              "5.678"
            ]
          },
          "metadata": {
            "tags": []
          },
          "execution_count": 1
        }
      ]
    },
    {
      "cell_type": "code",
      "metadata": {
        "colab": {
          "base_uri": "https://localhost:8080/"
        },
        "id": "aaYyaj61dqw0",
        "outputId": "6ee674d1-700e-4e0a-d034-e8418eb11296"
      },
      "source": [
        "scalar_python = True\n",
        "scalar_python"
      ],
      "execution_count": null,
      "outputs": [
        {
          "output_type": "execute_result",
          "data": {
            "text/plain": [
              "True"
            ]
          },
          "metadata": {
            "tags": []
          },
          "execution_count": 2
        }
      ]
    },
    {
      "cell_type": "markdown",
      "metadata": {
        "id": "TqdVfgZOy1jv"
      },
      "source": [
        "## Vectores"
      ]
    },
    {
      "cell_type": "code",
      "metadata": {
        "id": "WFRwOQotdxAP"
      },
      "source": [
        "import numpy as np"
      ],
      "execution_count": null,
      "outputs": []
    },
    {
      "cell_type": "code",
      "metadata": {
        "colab": {
          "base_uri": "https://localhost:8080/"
        },
        "id": "7KH-wfj1yxbp",
        "outputId": "e20fc4af-f17b-4c5d-c639-acc9a37c7a84"
      },
      "source": [
        "vector = np.array({1, 2, 3, 4, 5})\n",
        "print(vector, type(vector))"
      ],
      "execution_count": null,
      "outputs": [
        {
          "output_type": "stream",
          "text": [
            "{1, 2, 3, 4, 5} <class 'numpy.ndarray'>\n"
          ],
          "name": "stdout"
        }
      ]
    },
    {
      "cell_type": "markdown",
      "metadata": {
        "id": "J4zOmSPTzWes"
      },
      "source": [
        "## Matrices\n",
        "\n",
        "Matrix de 3x3"
      ]
    },
    {
      "cell_type": "code",
      "metadata": {
        "colab": {
          "base_uri": "https://localhost:8080/"
        },
        "id": "1ePcMC7WzYxy",
        "outputId": "3c0eea54-1aed-4fa8-a2bd-29616fc778ab"
      },
      "source": [
        "matrix = np.array([[1, 2, 3], [4, 5, 6], [7, 8, 9]])\n",
        "print(matrix, type(matrix))"
      ],
      "execution_count": null,
      "outputs": [
        {
          "output_type": "stream",
          "text": [
            "[[1 2 3]\n",
            " [4 5 6]\n",
            " [7 8 9]] <class 'numpy.ndarray'>\n"
          ],
          "name": "stdout"
        }
      ]
    },
    {
      "cell_type": "markdown",
      "metadata": {
        "id": "ZXKaiRHGgL8J"
      },
      "source": [
        "## Tensores"
      ]
    },
    {
      "cell_type": "code",
      "metadata": {
        "colab": {
          "base_uri": "https://localhost:8080/"
        },
        "id": "SLdVGrAVgTbV",
        "outputId": "a32463c3-7158-4a8c-86e7-99e3e678b601"
      },
      "source": [
        "tensor = np.array([\n",
        "    [[1, 2, 3], [4, 5, 6], [7, 8, 9]],\n",
        "    [[10, 11, 12], [13, 14, 15], [16, 17, 18]],\n",
        "    [[19, 20, 21], [22, 23, 24], [15, 26, 27]]\n",
        "])\n",
        "\n",
        "tensor"
      ],
      "execution_count": null,
      "outputs": [
        {
          "output_type": "execute_result",
          "data": {
            "text/plain": [
              "array([[[ 1,  2,  3],\n",
              "        [ 4,  5,  6],\n",
              "        [ 7,  8,  9]],\n",
              "\n",
              "       [[10, 11, 12],\n",
              "        [13, 14, 15],\n",
              "        [16, 17, 18]],\n",
              "\n",
              "       [[19, 20, 21],\n",
              "        [22, 23, 24],\n",
              "        [15, 26, 27]]])"
            ]
          },
          "metadata": {
            "tags": []
          },
          "execution_count": 6
        }
      ]
    },
    {
      "cell_type": "code",
      "metadata": {
        "id": "ICcuPyqbjBM5"
      },
      "source": [
        "import matplotlib.pyplot as plt"
      ],
      "execution_count": null,
      "outputs": []
    },
    {
      "cell_type": "markdown",
      "metadata": {
        "id": "vjVGHbogkGqn"
      },
      "source": [
        "Las siguientes son una representaciones gráficas de un tensor. Los números dentro de cada matriz se interpretan como valores RGB"
      ]
    },
    {
      "cell_type": "code",
      "metadata": {
        "colab": {
          "base_uri": "https://localhost:8080/",
          "height": 269
        },
        "id": "AcHDzv9djHqA",
        "outputId": "37f1ae5f-b033-429d-bc8e-b3040bba01d0"
      },
      "source": [
        "plt.imshow(tensor, interpolation='nearest')\n",
        "plt.show()"
      ],
      "execution_count": null,
      "outputs": [
        {
          "output_type": "display_data",
          "data": {
            "image/png": "[encoded data removed]",
            "text/plain": [
              "<Figure size 432x288 with 1 Axes>"
            ]
          },
          "metadata": {
            "tags": [],
            "needs_background": "light"
          }
        }
      ]
    },
    {
      "cell_type": "code",
      "metadata": {
        "colab": {
          "base_uri": "https://localhost:8080/",
          "height": 269
        },
        "id": "5LVzlhccjttC",
        "outputId": "11cf71a8-c32f-41f5-ca46-5d3028cbd56e"
      },
      "source": [
        "tensor = np.array([\n",
        "    [[0, 0, 0], [0, 0, 0], [0, 0, 0]],\n",
        "    [[128, 128, 128], [128, 128, 128], [128, 128, 128]],\n",
        "    [[255, 255, 255], [255, 255, 255], [255, 255, 255]]\n",
        "])\n",
        "\n",
        "plt.imshow(tensor, interpolation='nearest')\n",
        "plt.show()"
      ],
      "execution_count": null,
      "outputs": [
        {
          "output_type": "display_data",
          "data": {
            "image/png": "[encoded data removed]",
            "text/plain": [
              "<Figure size 432x288 with 1 Axes>"
            ]
          },
          "metadata": {
            "tags": [],
            "needs_background": "light"
          }
        }
      ]
    }
  ]
}