{
  "nbformat": 4,
  "nbformat_minor": 0,
  "metadata": {
    "colab": {
      "name": "16-Graficar_vectores.ipynb",
      "provenance": [],
      "authorship_tag": "ABX9TyM53wgJIVVohXE7FULAeuA/",
      "include_colab_link": true
    },
    "kernelspec": {
      "name": "python3",
      "display_name": "Python 3"
    },
    "language_info": {
      "name": "python"
    }
  },
  "cells": [
    {
      "cell_type": "markdown",
      "metadata": {
        "id": "view-in-github",
        "colab_type": "text"
      },
      "source": [
        "<a href=\"https://colab.research.google.com/github/bl00p1ng/Curso-algebra-lineal-python/blob/main/16_Graficar_vectores.ipynb\" target=\"_parent\"><img src=\"https://colab.research.google.com/assets/colab-badge.svg\" alt=\"Open In Colab\"/></a>"
      ]
    },
    {
      "cell_type": "markdown",
      "metadata": {
        "id": "WYyt83eyk2lf"
      },
      "source": [
        "# Clase 16. Graficar vectores"
      ]
    },
    {
      "cell_type": "code",
      "metadata": {
        "id": "22sMoNFqk_cZ"
      },
      "source": [
        "import numpy as np\n",
        "import matplotlib.pyplot as plt"
      ],
      "execution_count": 1,
      "outputs": []
    },
    {
      "cell_type": "code",
      "metadata": {
        "id": "fwZ0kHNvlKgz"
      },
      "source": [
        "v_1 = np.array([2,5])\n",
        "v_2 = np.array([3,2])"
      ],
      "execution_count": 2,
      "outputs": []
    },
    {
      "cell_type": "markdown",
      "metadata": {
        "id": "YNT48e5plWLN"
      },
      "source": [
        "## Graficar los vectores"
      ]
    },
    {
      "cell_type": "code",
      "metadata": {
        "id": "KnR-62lXlcOD"
      },
      "source": [
        "def plot_vectors(vector, color, alpha=1):\n",
        "    plt.figure()\n",
        "    plt.axvline(x=0, color='gray', zorder=0)\n",
        "    plt.axhline(y=0, color='gray', zorder=0)\n",
        "\n",
        "    for i in range(len(vector)):\n",
        "        x = np.concatenate([[0,0], vector[i]])\n",
        "        plt.quiver([x[0]], [x[1]], [x[2]], [x[3]], angles='xy', scale_units='xy', scale=1, color=color[i], alpha=alpha)"
      ],
      "execution_count": 3,
      "outputs": []
    },
    {
      "cell_type": "code",
      "metadata": {
        "colab": {
          "base_uri": "https://localhost:8080/",
          "height": 286
        },
        "id": "-wtcPownmtbf",
        "outputId": "3ce6674a-eed2-4878-f4cf-ad064a557103"
      },
      "source": [
        "plot_vectors([v_1, v_2], ['orange', 'blue'])\n",
        "plt.xlim(-1, 8)\n",
        "plt.ylim(-1, 8)"
      ],
      "execution_count": 4,
      "outputs": [
        {
          "output_type": "execute_result",
          "data": {
            "text/plain": [
              "(-1.0, 8.0)"
            ]
          },
          "metadata": {
            "tags": []
          },
          "execution_count": 4
        },
        {
          "output_type": "display_data",
          "data": {
            "image/png": "[encoded data removed]",
            "text/plain": [
              "<Figure size 432x288 with 1 Axes>"
            ]
          },
          "metadata": {
            "tags": [],
            "needs_background": "light"
          }
        }
      ]
    },
    {
      "cell_type": "code",
      "metadata": {
        "id": "mgNABQaym528"
      },
      "source": [
        ""
      ],
      "execution_count": 4,
      "outputs": []
    }
  ]
}