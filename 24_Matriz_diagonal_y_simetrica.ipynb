{
  "nbformat": 4,
  "nbformat_minor": 0,
  "metadata": {
    "colab": {
      "name": "24-Matriz_diagonal_y_simetrica.ipynb",
      "provenance": [],
      "authorship_tag": "ABX9TyPtq2x2HG88KvQEYzHBVPxQ",
      "include_colab_link": true
    },
    "kernelspec": {
      "name": "python3",
      "display_name": "Python 3"
    },
    "language_info": {
      "name": "python"
    }
  },
  "cells": [
    {
      "cell_type": "markdown",
      "metadata": {
        "id": "view-in-github",
        "colab_type": "text"
      },
      "source": [
        "<a href=\"https://colab.research.google.com/github/bl00p1ng/Curso-algebra-lineal-python/blob/main/24_Matriz_diagonal_y_simetrica.ipynb\" target=\"_parent\"><img src=\"https://colab.research.google.com/assets/colab-badge.svg\" alt=\"Open In Colab\"/></a>"
      ]
    },
    {
      "cell_type": "markdown",
      "metadata": {
        "id": "7yRVZKiOiCmu"
      },
      "source": [
        "# Clase 24. La matriz diagonal y la matriz simétrica: sus propiedades"
      ]
    },
    {
      "cell_type": "code",
      "metadata": {
        "id": "c2M0MzTbVC0x"
      },
      "source": [
        "import numpy as np"
      ],
      "execution_count": 1,
      "outputs": []
    },
    {
      "cell_type": "markdown",
      "metadata": {
        "id": "-M1O54NCVa6u"
      },
      "source": [
        "## Matriz Diagonal\n",
        "\n",
        "`np.diag()` Crea una matriz diagonal."
      ]
    },
    {
      "cell_type": "code",
      "metadata": {
        "colab": {
          "base_uri": "https://localhost:8080/"
        },
        "id": "gvshk2tyVQM5",
        "outputId": "b89c6229-51c7-44ef-d8ac-10a9dd739cb8"
      },
      "source": [
        "vector = np.array([1,2,3,4,5])\n",
        "matrix = np.diag(vector)\n",
        "\n",
        "matrix"
      ],
      "execution_count": 2,
      "outputs": [
        {
          "output_type": "execute_result",
          "data": {
            "text/plain": [
              "array([[1, 0, 0, 0, 0],\n",
              "       [0, 2, 0, 0, 0],\n",
              "       [0, 0, 3, 0, 0],\n",
              "       [0, 0, 0, 4, 0],\n",
              "       [0, 0, 0, 0, 5]])"
            ]
          },
          "metadata": {
            "tags": []
          },
          "execution_count": 2
        }
      ]
    },
    {
      "cell_type": "markdown",
      "metadata": {
        "id": "oJALyISDV5NQ"
      },
      "source": [
        "Una Matriz Diagonal no tiene  que ser necesariamente cuadrada"
      ]
    },
    {
      "cell_type": "code",
      "metadata": {
        "colab": {
          "base_uri": "https://localhost:8080/"
        },
        "id": "yCCPPoOhVrBb",
        "outputId": "5f8d52a6-685f-4eaa-f769-26716ca81796"
      },
      "source": [
        "matrix[0:4,0:3]"
      ],
      "execution_count": 3,
      "outputs": [
        {
          "output_type": "execute_result",
          "data": {
            "text/plain": [
              "array([[1, 0, 0],\n",
              "       [0, 2, 0],\n",
              "       [0, 0, 3],\n",
              "       [0, 0, 0]])"
            ]
          },
          "metadata": {
            "tags": []
          },
          "execution_count": 3
        }
      ]
    },
    {
      "cell_type": "code",
      "metadata": {
        "colab": {
          "base_uri": "https://localhost:8080/"
        },
        "id": "ERtjD4TdWBCG",
        "outputId": "a440df1c-25f7-481b-a6c1-1aebfcf0e0cb"
      },
      "source": [
        "matrix[0:3,0:4]"
      ],
      "execution_count": 4,
      "outputs": [
        {
          "output_type": "execute_result",
          "data": {
            "text/plain": [
              "array([[1, 0, 0, 0],\n",
              "       [0, 2, 0, 0],\n",
              "       [0, 0, 3, 0]])"
            ]
          },
          "metadata": {
            "tags": []
          },
          "execution_count": 4
        }
      ]
    },
    {
      "cell_type": "markdown",
      "metadata": {
        "id": "AB23jkZtWtZf"
      },
      "source": [
        "### Multiplicar una Matriz Diagonal por un vector"
      ]
    },
    {
      "cell_type": "code",
      "metadata": {
        "colab": {
          "base_uri": "https://localhost:8080/"
        },
        "id": "KTLSksuRWznN",
        "outputId": "973abcd8-d710-4fab-855b-f50d60aa1711"
      },
      "source": [
        "A = np.diag([2,3,4,5])\n",
        "A"
      ],
      "execution_count": 9,
      "outputs": [
        {
          "output_type": "execute_result",
          "data": {
            "text/plain": [
              "array([[2, 0, 0, 0],\n",
              "       [0, 3, 0, 0],\n",
              "       [0, 0, 4, 0],\n",
              "       [0, 0, 0, 5]])"
            ]
          },
          "metadata": {
            "tags": []
          },
          "execution_count": 9
        }
      ]
    },
    {
      "cell_type": "code",
      "metadata": {
        "colab": {
          "base_uri": "https://localhost:8080/"
        },
        "id": "IoKlOTZ3W3po",
        "outputId": "30554249-9c59-4475-9c0f-9e8d0715827f"
      },
      "source": [
        "v1 = np.array([[1,1,1,1]])\n",
        "v1"
      ],
      "execution_count": 11,
      "outputs": [
        {
          "output_type": "execute_result",
          "data": {
            "text/plain": [
              "array([[1, 1, 1, 1]])"
            ]
          },
          "metadata": {
            "tags": []
          },
          "execution_count": 11
        }
      ]
    },
    {
      "cell_type": "code",
      "metadata": {
        "colab": {
          "base_uri": "https://localhost:8080/"
        },
        "id": "wgnqlzJ4W7-G",
        "outputId": "b9b9a788-41d6-4316-fa75-fb856be72edf"
      },
      "source": [
        "A.dot(v1.T)"
      ],
      "execution_count": 12,
      "outputs": [
        {
          "output_type": "execute_result",
          "data": {
            "text/plain": [
              "array([[2],\n",
              "       [3],\n",
              "       [4],\n",
              "       [5]])"
            ]
          },
          "metadata": {
            "tags": []
          },
          "execution_count": 12
        }
      ]
    },
    {
      "cell_type": "markdown",
      "metadata": {
        "id": "HmtKeg9nXBGv"
      },
      "source": [
        "### Matriz inversa de una Matriz Diagonal\n",
        "\n",
        "Calcular la inversa manualmente:"
      ]
    },
    {
      "cell_type": "code",
      "metadata": {
        "colab": {
          "base_uri": "https://localhost:8080/"
        },
        "id": "XAuz1pGqYN2J",
        "outputId": "d357ab26-8de7-43eb-892c-4714af9aecab"
      },
      "source": [
        "A_inv = np.diag([1/2, 1/3, 1/4, 1/5])\n",
        "A_inv"
      ],
      "execution_count": 13,
      "outputs": [
        {
          "output_type": "execute_result",
          "data": {
            "text/plain": [
              "array([[0.5       , 0.        , 0.        , 0.        ],\n",
              "       [0.        , 0.33333333, 0.        , 0.        ],\n",
              "       [0.        , 0.        , 0.25      , 0.        ],\n",
              "       [0.        , 0.        , 0.        , 0.2       ]])"
            ]
          },
          "metadata": {
            "tags": []
          },
          "execution_count": 13
        }
      ]
    },
    {
      "cell_type": "markdown",
      "metadata": {
        "id": "u5xHkTOKY6X1"
      },
      "source": [
        "Calcular la inversa con Numpy:"
      ]
    },
    {
      "cell_type": "code",
      "metadata": {
        "colab": {
          "base_uri": "https://localhost:8080/"
        },
        "id": "UASHh-LGY-J0",
        "outputId": "9e822986-d82f-4757-c756-5e86512819b6"
      },
      "source": [
        "A_inv_cal = np.linalg.inv(A)\n",
        "A_inv_cal"
      ],
      "execution_count": 16,
      "outputs": [
        {
          "output_type": "execute_result",
          "data": {
            "text/plain": [
              "array([[0.5       , 0.        , 0.        , 0.        ],\n",
              "       [0.        , 0.33333333, 0.        , 0.        ],\n",
              "       [0.        , 0.        , 0.25      , 0.        ],\n",
              "       [0.        , 0.        , 0.        , 0.2       ]])"
            ]
          },
          "metadata": {
            "tags": []
          },
          "execution_count": 16
        }
      ]
    },
    {
      "cell_type": "code",
      "metadata": {
        "colab": {
          "base_uri": "https://localhost:8080/"
        },
        "id": "IqTjSsKtYfu8",
        "outputId": "ea10339d-e4c0-4134-c712-b31bcfb46b26"
      },
      "source": [
        "A.dot(A_inv)"
      ],
      "execution_count": 17,
      "outputs": [
        {
          "output_type": "execute_result",
          "data": {
            "text/plain": [
              "array([[1., 0., 0., 0.],\n",
              "       [0., 1., 0., 0.],\n",
              "       [0., 0., 1., 0.],\n",
              "       [0., 0., 0., 1.]])"
            ]
          },
          "metadata": {
            "tags": []
          },
          "execution_count": 17
        }
      ]
    },
    {
      "cell_type": "markdown",
      "metadata": {
        "id": "OYsPor1oZSlM"
      },
      "source": [
        "## Matriz Simétrica"
      ]
    },
    {
      "cell_type": "code",
      "metadata": {
        "colab": {
          "base_uri": "https://localhost:8080/"
        },
        "id": "QJJz-E8cZX1i",
        "outputId": "f7d1c83f-fb56-413f-dea9-1a0f2f01145c"
      },
      "source": [
        "A.T"
      ],
      "execution_count": 18,
      "outputs": [
        {
          "output_type": "execute_result",
          "data": {
            "text/plain": [
              "array([[2, 0, 0, 0],\n",
              "       [0, 3, 0, 0],\n",
              "       [0, 0, 4, 0],\n",
              "       [0, 0, 0, 5]])"
            ]
          },
          "metadata": {
            "tags": []
          },
          "execution_count": 18
        }
      ]
    },
    {
      "cell_type": "code",
      "metadata": {
        "colab": {
          "base_uri": "https://localhost:8080/"
        },
        "id": "akCFQLsmfUSC",
        "outputId": "d2e1e60f-a579-4cd5-f251-3d3df620b2c4"
      },
      "source": [
        "A"
      ],
      "execution_count": 19,
      "outputs": [
        {
          "output_type": "execute_result",
          "data": {
            "text/plain": [
              "array([[2, 0, 0, 0],\n",
              "       [0, 3, 0, 0],\n",
              "       [0, 0, 4, 0],\n",
              "       [0, 0, 0, 5]])"
            ]
          },
          "metadata": {
            "tags": []
          },
          "execution_count": 19
        }
      ]
    },
    {
      "cell_type": "code",
      "metadata": {
        "colab": {
          "base_uri": "https://localhost:8080/"
        },
        "id": "FZD8v_0rfWoA",
        "outputId": "2d2a7497-8988-49a2-87bb-89be0b2f67de"
      },
      "source": [
        "symmetrical = np.array([[1,2,3],\n",
        "                        [2,-1,7],\n",
        "                        [3,7,11]])\n",
        "\n",
        "symmetrical"
      ],
      "execution_count": 20,
      "outputs": [
        {
          "output_type": "execute_result",
          "data": {
            "text/plain": [
              "array([[ 1,  2,  3],\n",
              "       [ 2, -1,  7],\n",
              "       [ 3,  7, 11]])"
            ]
          },
          "metadata": {
            "tags": []
          },
          "execution_count": 20
        }
      ]
    },
    {
      "cell_type": "code",
      "metadata": {
        "colab": {
          "base_uri": "https://localhost:8080/"
        },
        "id": "uAGrOndYfzAM",
        "outputId": "4605e82e-c439-4056-e493-788789b06e1d"
      },
      "source": [
        "symmetrical.T"
      ],
      "execution_count": 21,
      "outputs": [
        {
          "output_type": "execute_result",
          "data": {
            "text/plain": [
              "array([[ 1,  2,  3],\n",
              "       [ 2, -1,  7],\n",
              "       [ 3,  7, 11]])"
            ]
          },
          "metadata": {
            "tags": []
          },
          "execution_count": 21
        }
      ]
    }
  ]
}