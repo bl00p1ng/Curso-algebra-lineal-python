{
  "nbformat": 4,
  "nbformat_minor": 0,
  "metadata": {
    "colab": {
      "name": "20-Matriz_cuadrada.ipynb",
      "provenance": [],
      "authorship_tag": "ABX9TyMn4cocSjJRtP+Kgt7HNjDo",
      "include_colab_link": true
    },
    "kernelspec": {
      "name": "python3",
      "display_name": "Python 3"
    },
    "language_info": {
      "name": "python"
    }
  },
  "cells": [
    {
      "cell_type": "markdown",
      "metadata": {
        "id": "view-in-github",
        "colab_type": "text"
      },
      "source": [
        "<a href=\"https://colab.research.google.com/github/bl00p1ng/Curso-algebra-lineal-python/blob/main/20_Matriz_cuadrada.ipynb\" target=\"_parent\"><img src=\"https://colab.research.google.com/assets/colab-badge.svg\" alt=\"Open In Colab\"/></a>"
      ]
    },
    {
      "cell_type": "code",
      "metadata": {
        "id": "0ERI6ivirHBh"
      },
      "source": [
        "import numpy as np"
      ],
      "execution_count": 1,
      "outputs": []
    },
    {
      "cell_type": "markdown",
      "metadata": {
        "id": "LUGUo5u8riC-"
      },
      "source": [
        "La siguiente matriz es cuadrada, pero no todos sus vectores son linealmente independientes. Cuando se quite el vector que es linealmente dependiente para que queden solo los linealmente independientes la matriz dejará de ser cuadrada."
      ]
    },
    {
      "cell_type": "code",
      "metadata": {
        "colab": {
          "base_uri": "https://localhost:8080/"
        },
        "id": "Bw2aeOyArSEc",
        "outputId": "3942b333-5b45-4dcb-f241-76dbe7c01248"
      },
      "source": [
        "A = np.array([[0,1,0,0], [0,0,1,0], [0,1,1,0], [1,0,0,1]])\n",
        "A"
      ],
      "execution_count": 3,
      "outputs": [
        {
          "output_type": "execute_result",
          "data": {
            "text/plain": [
              "array([[0, 1, 0, 0],\n",
              "       [0, 0, 1, 0],\n",
              "       [0, 1, 1, 0],\n",
              "       [1, 0, 0, 1]])"
            ]
          },
          "metadata": {
            "tags": []
          },
          "execution_count": 3
        }
      ]
    },
    {
      "cell_type": "markdown",
      "metadata": {
        "id": "7U0IzR5fyHV7"
      },
      "source": [
        "Una forma de identificar cuál fila es linealmente dependiente es usar los **autovectores** y **autovalores**.\n",
        "\n",
        "`np.linalg.eig()` permite buscar los autovalores y autovectores."
      ]
    },
    {
      "cell_type": "code",
      "metadata": {
        "colab": {
          "base_uri": "https://localhost:8080/"
        },
        "id": "w_B4WtBuruFZ",
        "outputId": "c3a0d859-60d8-433c-c8cd-9f0594b6d99c"
      },
      "source": [
        "lambdas, V = np.linalg.eig(A.T)\n",
        "\n",
        "print(A[lambdas == 0, :])"
      ],
      "execution_count": 6,
      "outputs": [
        {
          "output_type": "stream",
          "text": [
            "[[0 1 1 0]]\n"
          ],
          "name": "stdout"
        }
      ]
    }
  ]
}