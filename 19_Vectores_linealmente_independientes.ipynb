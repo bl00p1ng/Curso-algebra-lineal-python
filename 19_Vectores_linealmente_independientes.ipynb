{
  "nbformat": 4,
  "nbformat_minor": 0,
  "metadata": {
    "colab": {
      "name": "19-Vectores_linealmente_independientes.ipynb",
      "provenance": [],
      "authorship_tag": "ABX9TyO6agt/KwgXs98JGR1hTpuo",
      "include_colab_link": true
    },
    "kernelspec": {
      "name": "python3",
      "display_name": "Python 3"
    },
    "language_info": {
      "name": "python"
    }
  },
  "cells": [
    {
      "cell_type": "markdown",
      "metadata": {
        "id": "view-in-github",
        "colab_type": "text"
      },
      "source": [
        "<a href=\"https://colab.research.google.com/github/bl00p1ng/Curso-algebra-lineal-python/blob/main/19_Vectores_linealmente_independientes.ipynb\" target=\"_parent\"><img src=\"https://colab.research.google.com/assets/colab-badge.svg\" alt=\"Open In Colab\"/></a>"
      ]
    },
    {
      "cell_type": "markdown",
      "metadata": {
        "id": "TU-Wtm61KAih"
      },
      "source": [
        "# Clase 19. Vectores linealmente independientes"
      ]
    },
    {
      "cell_type": "code",
      "metadata": {
        "id": "FmjNOmyZKXKG"
      },
      "source": [
        "import numpy as np\n",
        "import matplotlib.pyplot as plt"
      ],
      "execution_count": 1,
      "outputs": []
    },
    {
      "cell_type": "code",
      "metadata": {
        "id": "mM7LuFuiKcJH"
      },
      "source": [
        "v1 = np.array([1, 1])\n",
        "v2 = np.array([-1, -1])"
      ],
      "execution_count": 2,
      "outputs": []
    },
    {
      "cell_type": "code",
      "metadata": {
        "colab": {
          "base_uri": "https://localhost:8080/",
          "height": 265
        },
        "id": "xD_iBQqoKmD0",
        "outputId": "82eca440-7614-43f3-8fec-117b04ce5314"
      },
      "source": [
        "for a in range(-10, 10):\n",
        "    for b in range(-10, 10):\n",
        "        plt.scatter(v1[0] * a + v2[0] * b, v1[1] * a + v2[1] * b,\n",
        "                    marker='.', color='orange')\n",
        "plt.xlim(-25, 25)\n",
        "plt.ylim(-25, 25)\n",
        "\n",
        "plt.axvline(x=0, color='gray')\n",
        "plt.axhline(y=0, color='gray')\n",
        "\n",
        "plt.show()"
      ],
      "execution_count": 6,
      "outputs": [
        {
          "output_type": "display_data",
          "data": {
            "image/png": "[encoded data removed]",
            "text/plain": [
              "<Figure size 432x288 with 1 Axes>"
            ]
          },
          "metadata": {
            "tags": [],
            "needs_background": "light"
          }
        }
      ]
    }
  ]
}