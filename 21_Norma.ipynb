{
  "nbformat": 4,
  "nbformat_minor": 0,
  "metadata": {
    "colab": {
      "name": "21-Norma.ipynb",
      "provenance": [],
      "authorship_tag": "ABX9TyPgTO3z7scwcFivXhwle8Xf",
      "include_colab_link": true
    },
    "kernelspec": {
      "name": "python3",
      "display_name": "Python 3"
    },
    "language_info": {
      "name": "python"
    }
  },
  "cells": [
    {
      "cell_type": "markdown",
      "metadata": {
        "id": "view-in-github",
        "colab_type": "text"
      },
      "source": [
        "<a href=\"https://colab.research.google.com/github/bl00p1ng/Curso-algebra-lineal-python/blob/main/21_Norma.ipynb\" target=\"_parent\"><img src=\"https://colab.research.google.com/assets/colab-badge.svg\" alt=\"Open In Colab\"/></a>"
      ]
    },
    {
      "cell_type": "markdown",
      "metadata": {
        "id": "_j75IMg_bdok"
      },
      "source": [
        "# Clase 21. Qué es una norma y para qué se usa. Desigualdad Triangular"
      ]
    },
    {
      "cell_type": "code",
      "metadata": {
        "id": "vD0dk-Z5bm5a"
      },
      "source": [
        "import numpy as np\n",
        "import matplotlib.pyplot as plt\n",
        "import seaborn as sns"
      ],
      "execution_count": 2,
      "outputs": []
    },
    {
      "cell_type": "code",
      "metadata": {
        "id": "qpb4ceTibr7f"
      },
      "source": [
        "v1 = np.array([2,7])\n",
        "v2 = np.array([3,5])"
      ],
      "execution_count": 3,
      "outputs": []
    },
    {
      "cell_type": "code",
      "metadata": {
        "colab": {
          "base_uri": "https://localhost:8080/"
        },
        "id": "QPPTCh9gb97v",
        "outputId": "d5d247fb-3a90-4bec-9da1-c1da2ec4b439"
      },
      "source": [
        "v1_v2 = v1 + v2\n",
        "v1_v2"
      ],
      "execution_count": 4,
      "outputs": [
        {
          "output_type": "execute_result",
          "data": {
            "text/plain": [
              "array([ 5, 12])"
            ]
          },
          "metadata": {
            "tags": []
          },
          "execution_count": 4
        }
      ]
    },
    {
      "cell_type": "markdown",
      "metadata": {
        "id": "QwE_sWpmcFzs"
      },
      "source": [
        "## Calcular la norma\n",
        "\n",
        "`np.linalg.norm()` permite calcular la norma."
      ]
    },
    {
      "cell_type": "code",
      "metadata": {
        "colab": {
          "base_uri": "https://localhost:8080/"
        },
        "id": "Y5wVvGLEcLCk",
        "outputId": "d0d472ff-8249-414c-98ae-43c58408fd2f"
      },
      "source": [
        "np.linalg.norm(v1_v2)"
      ],
      "execution_count": 6,
      "outputs": [
        {
          "output_type": "execute_result",
          "data": {
            "text/plain": [
              "13.0"
            ]
          },
          "metadata": {
            "tags": []
          },
          "execution_count": 6
        }
      ]
    },
    {
      "cell_type": "markdown",
      "metadata": {
        "id": "76XHdN0ycRg9"
      },
      "source": [
        "## Comprobar la Desigualdad Triangular"
      ]
    },
    {
      "cell_type": "code",
      "metadata": {
        "colab": {
          "base_uri": "https://localhost:8080/"
        },
        "id": "E20dVEI4coWn",
        "outputId": "55385a74-2ab9-4e4c-fb49-dd0b46bc6d1d"
      },
      "source": [
        "norm_v1 = np.linalg.norm(v1)\n",
        "norm_v2 = np.linalg.norm(v2)\n",
        "norm_v1_v2 = np.linalg.norm(v1_v2)\n",
        "\n",
        "print(norm_v1_v2 <= (norm_v1 + norm_v2))"
      ],
      "execution_count": 7,
      "outputs": [
        {
          "output_type": "stream",
          "text": [
            "True\n"
          ],
          "name": "stdout"
        }
      ]
    },
    {
      "cell_type": "code",
      "metadata": {
        "colab": {
          "base_uri": "https://localhost:8080/"
        },
        "id": "4AAqhEqxdrW6",
        "outputId": "8b2094a0-b61d-46e2-8458-854ce842ab8e"
      },
      "source": [
        "print(norm_v1 + norm_v2)"
      ],
      "execution_count": 8,
      "outputs": [
        {
          "output_type": "stream",
          "text": [
            "13.11106178412582\n"
          ],
          "name": "stdout"
        }
      ]
    },
    {
      "cell_type": "markdown",
      "metadata": {
        "id": "827rrlZQdzqB"
      },
      "source": [
        "# Graficando los resultados"
      ]
    },
    {
      "cell_type": "code",
      "metadata": {
        "id": "EbCtE-_xd5ax"
      },
      "source": [
        "v1 = np.array([0,0,2,7])  # Se indica el origen y el final del vector\n",
        "v2 = np.array([0,0,3,5])\n",
        "\n",
        "v1_aux = np.array([v1[2], v1[3], v2[2], v2[3]])\n",
        "\n",
        "v1_v2 = np.array([0,0,5,12])"
      ],
      "execution_count": 16,
      "outputs": []
    },
    {
      "cell_type": "code",
      "metadata": {
        "colab": {
          "base_uri": "https://localhost:8080/",
          "height": 282
        },
        "id": "GwtVLfOpiOfx",
        "outputId": "703a887a-4928-4146-937e-277d280b6223"
      },
      "source": [
        "plt.quiver([v1[0], v1_aux[0], v1_v2[0]],\n",
        "           [v1[1], v1_aux[1], v1_v2[1]],\n",
        "           [v1[2], v1_aux[2], v1_v2[2]],\n",
        "           [v1[3], v1_aux[3], v1_v2[3]],\n",
        "           angles='xy', scale_units='xy',\n",
        "           scale=1, color=sns.color_palette())\n",
        "\n",
        "plt.xlim(-0.5, 6)\n",
        "plt.ylim(-0.5, 15)"
      ],
      "execution_count": 18,
      "outputs": [
        {
          "output_type": "execute_result",
          "data": {
            "text/plain": [
              "(-0.5, 15.0)"
            ]
          },
          "metadata": {
            "tags": []
          },
          "execution_count": 18
        },
        {
          "output_type": "display_data",
          "data": {
            "image/png": "[encoded data removed]",
            "text/plain": [
              "<Figure size 432x288 with 1 Axes>"
            ]
          },
          "metadata": {
            "tags": [],
            "needs_background": "light"
          }
        }
      ]
    }
  ]
}