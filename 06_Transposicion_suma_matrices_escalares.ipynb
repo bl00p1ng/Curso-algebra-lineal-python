{
  "nbformat": 4,
  "nbformat_minor": 0,
  "metadata": {
    "colab": {
      "name": "06-Transposicion_suma_matrices_escalares.ipynb",
      "provenance": [],
      "authorship_tag": "ABX9TyPuglHF3DgV1nMPQTsSLxBc",
      "include_colab_link": true
    },
    "kernelspec": {
      "name": "python3",
      "display_name": "Python 3"
    },
    "language_info": {
      "name": "python"
    }
  },
  "cells": [
    {
      "cell_type": "markdown",
      "metadata": {
        "id": "view-in-github",
        "colab_type": "text"
      },
      "source": [
        "<a href=\"https://colab.research.google.com/github/bl00p1ng/Curso-algebra-lineal-python/blob/main/06_Transposicion_suma_matrices_escalares.ipynb\" target=\"_parent\"><img src=\"https://colab.research.google.com/assets/colab-badge.svg\" alt=\"Open In Colab\"/></a>"
      ]
    },
    {
      "cell_type": "markdown",
      "metadata": {
        "id": "TPdJtqmBL0V9"
      },
      "source": [
        "# Clase 6. Transposición, suma de matrices y escalares"
      ]
    },
    {
      "cell_type": "code",
      "metadata": {
        "id": "n0_hkXQRMGaZ"
      },
      "source": [
        "import numpy as np"
      ],
      "execution_count": 1,
      "outputs": []
    },
    {
      "cell_type": "code",
      "metadata": {
        "colab": {
          "base_uri": "https://localhost:8080/"
        },
        "id": "RJmMJLR8ML-I",
        "outputId": "a38e8850-9ac1-44d1-948f-f6cbc1b6cd05"
      },
      "source": [
        "scalar = 5.679\n",
        "vector = np.array([3,4,5,6])\n",
        "matrix = np.array([[1,2],[3,4],[5,6]])\n",
        "tensor = np.array([\n",
        "    [[1,2,3,30], [4,5,6,31], [7,8,9,32]],\n",
        "    [[11,12,13,33], [14,15,16,34], [17,18,19,35]],\n",
        "    [[21,22,23,36], [24,25,26,37], [27,28,29,38]]\n",
        "])\n",
        "\n",
        "print('Escalar:', scalar, '\\n')\n",
        "print('Vector:\\n', vector, '\\n')\n",
        "print('Matriz:\\n', matrix, '\\n')\n",
        "print('Tensor:\\n', tensor)"
      ],
      "execution_count": 6,
      "outputs": [
        {
          "output_type": "stream",
          "text": [
            "Escalar: 5.679 \n",
            "\n",
            "Vector:\n",
            " [3 4 5 6] \n",
            "\n",
            "Matriz:\n",
            " [[1 2]\n",
            " [3 4]\n",
            " [5 6]] \n",
            "\n",
            "Tensor:\n",
            " [[[ 1  2  3 30]\n",
            "  [ 4  5  6 31]\n",
            "  [ 7  8  9 32]]\n",
            "\n",
            " [[11 12 13 33]\n",
            "  [14 15 16 34]\n",
            "  [17 18 19 35]]\n",
            "\n",
            " [[21 22 23 36]\n",
            "  [24 25 26 37]\n",
            "  [27 28 29 38]]]\n"
          ],
          "name": "stdout"
        }
      ]
    },
    {
      "cell_type": "markdown",
      "metadata": {
        "id": "7dqn8WSLN3G4"
      },
      "source": [
        "La transpuesta en Numpy se obtienen con `T`.\n",
        "\n",
        "**ℹ Nota:** los escalares no tienen transpuesta."
      ]
    },
    {
      "cell_type": "markdown",
      "metadata": {
        "id": "ODrfBCkGQ7wv"
      },
      "source": [
        "## Transposición en Vectores\n",
        "\n",
        "En los vectores no hay diferencia entre entre el vector original y la transpuesta a no ser que se efectuen operaciones."
      ]
    },
    {
      "cell_type": "code",
      "metadata": {
        "colab": {
          "base_uri": "https://localhost:8080/"
        },
        "id": "bgvg3TA2NBqi",
        "outputId": "fab701bb-cfe9-42c0-9a4d-9eb51f784a6c"
      },
      "source": [
        "vector_t = vector.T\n",
        "vector_t"
      ],
      "execution_count": 5,
      "outputs": [
        {
          "output_type": "execute_result",
          "data": {
            "text/plain": [
              "array([3, 4, 5, 6])"
            ]
          },
          "metadata": {
            "tags": []
          },
          "execution_count": 5
        }
      ]
    },
    {
      "cell_type": "markdown",
      "metadata": {
        "id": "9QP8nZugVIJ-"
      },
      "source": [
        "## Transposición en Matrices"
      ]
    },
    {
      "cell_type": "code",
      "metadata": {
        "colab": {
          "base_uri": "https://localhost:8080/"
        },
        "id": "shkkmom3OgMU",
        "outputId": "da197390-ee30-4614-fad4-6a78a0f976d0"
      },
      "source": [
        "matrix_t = matrix.T\n",
        "print(matrix_t, matrix_t.shape)"
      ],
      "execution_count": 7,
      "outputs": [
        {
          "output_type": "stream",
          "text": [
            "[[1 3 5]\n",
            " [2 4 6]] (2, 3)\n"
          ],
          "name": "stdout"
        }
      ]
    },
    {
      "cell_type": "markdown",
      "metadata": {
        "id": "sgJ3W9ANWQxV"
      },
      "source": [
        "## Transposición de Tensores"
      ]
    },
    {
      "cell_type": "code",
      "metadata": {
        "colab": {
          "base_uri": "https://localhost:8080/"
        },
        "id": "ng9jZdtdWg1U",
        "outputId": "fac1dde2-6e0f-463c-c98a-b6cfe84fff3b"
      },
      "source": [
        "tensor_t = tensor.T\n",
        "print(tensor_t, tensor_t.shape)"
      ],
      "execution_count": 8,
      "outputs": [
        {
          "output_type": "stream",
          "text": [
            "[[[ 1 11 21]\n",
            "  [ 4 14 24]\n",
            "  [ 7 17 27]]\n",
            "\n",
            " [[ 2 12 22]\n",
            "  [ 5 15 25]\n",
            "  [ 8 18 28]]\n",
            "\n",
            " [[ 3 13 23]\n",
            "  [ 6 16 26]\n",
            "  [ 9 19 29]]\n",
            "\n",
            " [[30 33 36]\n",
            "  [31 34 37]\n",
            "  [32 35 38]]] (4, 3, 3)\n"
          ],
          "name": "stdout"
        }
      ]
    },
    {
      "cell_type": "markdown",
      "metadata": {
        "id": "1Dlql-2GWrWh"
      },
      "source": [
        "## Obtener la Matriz original a partir de una transpuesta\n",
        "\n",
        "$$(A^t)^t=A$$"
      ]
    },
    {
      "cell_type": "code",
      "metadata": {
        "colab": {
          "base_uri": "https://localhost:8080/"
        },
        "id": "zN63wIWkX8so",
        "outputId": "e070f9af-e302-41c7-b3aa-b047ab56156f"
      },
      "source": [
        "matrix_t_t = matrix_t.T\n",
        "matrix_t_t"
      ],
      "execution_count": 9,
      "outputs": [
        {
          "output_type": "execute_result",
          "data": {
            "text/plain": [
              "array([[1, 2],\n",
              "       [3, 4],\n",
              "       [5, 6]])"
            ]
          },
          "metadata": {
            "tags": []
          },
          "execution_count": 9
        }
      ]
    },
    {
      "cell_type": "markdown",
      "metadata": {
        "id": "dOe0Qu6_YCxt"
      },
      "source": [
        "## Suma de Matrices"
      ]
    },
    {
      "cell_type": "code",
      "metadata": {
        "colab": {
          "base_uri": "https://localhost:8080/"
        },
        "id": "N6uTginMgF4X",
        "outputId": "1846f3a9-7d47-4b85-bf24-79ca0c51eb16"
      },
      "source": [
        "A = np.array([[1,2], [3,4], [5,6]])\n",
        "B = np.array([[6,5], [4,3], [2,1]])\n",
        "\n",
        "C = A + B\n",
        "\n",
        "print(A, '\\n')\n",
        "print(B, '\\n')\n",
        "print(C, '\\n')"
      ],
      "execution_count": 13,
      "outputs": [
        {
          "output_type": "stream",
          "text": [
            "[[1 2]\n",
            " [3 4]\n",
            " [5 6]] \n",
            "\n",
            "[[6 5]\n",
            " [4 3]\n",
            " [2 1]] \n",
            "\n",
            "[[7 7]\n",
            " [7 7]\n",
            " [7 7]] \n",
            "\n"
          ],
          "name": "stdout"
        }
      ]
    },
    {
      "cell_type": "markdown",
      "metadata": {
        "id": "pYpZVIiCht93"
      },
      "source": [
        "## Sumarle un escalar a una Matriz\n",
        "\n",
        "Se le suma el escalar a cada elemento de la matriz."
      ]
    },
    {
      "cell_type": "code",
      "metadata": {
        "colab": {
          "base_uri": "https://localhost:8080/"
        },
        "id": "QrDTLFwYhyZa",
        "outputId": "080eae7e-4d3b-4630-fdd1-baf291eddc9f"
      },
      "source": [
        "D = matrix + scalar\n",
        "D"
      ],
      "execution_count": 14,
      "outputs": [
        {
          "output_type": "execute_result",
          "data": {
            "text/plain": [
              "array([[ 6.679,  7.679],\n",
              "       [ 8.679,  9.679],\n",
              "       [10.679, 11.679]])"
            ]
          },
          "metadata": {
            "tags": []
          },
          "execution_count": 14
        }
      ]
    }
  ]
}