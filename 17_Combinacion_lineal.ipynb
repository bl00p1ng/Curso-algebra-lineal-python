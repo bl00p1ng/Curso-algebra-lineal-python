{
  "nbformat": 4,
  "nbformat_minor": 0,
  "metadata": {
    "colab": {
      "name": "17-Combinacion-lineal.ipynb",
      "provenance": [],
      "mount_file_id": "1w94HvIBoowf4t1bErEAV687OwCKVbc5_",
      "authorship_tag": "ABX9TyOdiXip7tyT4ImhxlJr5J7I",
      "include_colab_link": true
    },
    "kernelspec": {
      "name": "python3",
      "display_name": "Python 3"
    },
    "language_info": {
      "name": "python"
    }
  },
  "cells": [
    {
      "cell_type": "markdown",
      "metadata": {
        "id": "view-in-github",
        "colab_type": "text"
      },
      "source": [
        "<a href=\"https://colab.research.google.com/github/bl00p1ng/Curso-algebra-lineal-python/blob/main/17_Combinacion_lineal.ipynb\" target=\"_parent\"><img src=\"https://colab.research.google.com/assets/colab-badge.svg\" alt=\"Open In Colab\"/></a>"
      ]
    },
    {
      "cell_type": "markdown",
      "metadata": {
        "id": "L-Gox3qRw1fF"
      },
      "source": [
        "## Clase 17. ¿Qué es una combinación lineal?"
      ]
    },
    {
      "cell_type": "code",
      "metadata": {
        "id": "MLd_IvUtxCPo"
      },
      "source": [
        "import numpy as np\n",
        "import matplotlib.pyplot as plt"
      ],
      "execution_count": 1,
      "outputs": []
    },
    {
      "cell_type": "markdown",
      "metadata": {
        "id": "6-GmgXTIzfoo"
      },
      "source": [
        "Importar función para graficar vectores"
      ]
    },
    {
      "cell_type": "code",
      "metadata": {
        "id": "2pfU0dliyImy"
      },
      "source": [
        "%run '/content/drive/MyDrive/Colab Notebooks/Curso-algebra-lineal-python/aux_funcs/plot_vectors.ipynb'"
      ],
      "execution_count": 2,
      "outputs": []
    },
    {
      "cell_type": "code",
      "metadata": {
        "id": "SlXBxgYkzefU"
      },
      "source": [
        "v_1 = np.array([2,5])\n",
        "v_2 = np.array([3,1])"
      ],
      "execution_count": 3,
      "outputs": []
    },
    {
      "cell_type": "code",
      "metadata": {
        "colab": {
          "base_uri": "https://localhost:8080/"
        },
        "id": "QFr9uA-izwiz",
        "outputId": "7280db90-1a11-4faf-bedb-f21374f7ff7a"
      },
      "source": [
        "v_1_v_2 = 2 * v_1 + v_2\n",
        "v_1_v_2"
      ],
      "execution_count": 8,
      "outputs": [
        {
          "output_type": "execute_result",
          "data": {
            "text/plain": [
              "array([ 7, 11])"
            ]
          },
          "metadata": {
            "tags": []
          },
          "execution_count": 8
        }
      ]
    },
    {
      "cell_type": "code",
      "metadata": {
        "colab": {
          "base_uri": "https://localhost:8080/",
          "height": 282
        },
        "id": "hO3ghLJdz6It",
        "outputId": "9d21b8d1-5965-4ea3-98ba-09e2e53e379d"
      },
      "source": [
        "plot_vectors([v_1, v_2, v_1_v_2], ['orange', 'blue', 'red'])\n",
        "plt.xlim(-1, 8)\n",
        "plt.ylim(-1, 15)"
      ],
      "execution_count": 9,
      "outputs": [
        {
          "output_type": "execute_result",
          "data": {
            "text/plain": [
              "(-1.0, 15.0)"
            ]
          },
          "metadata": {
            "tags": []
          },
          "execution_count": 9
        },
        {
          "output_type": "display_data",
          "data": {
            "image/png": "[encoded data removed]",
            "text/plain": [
              "<Figure size 432x288 with 1 Axes>"
            ]
          },
          "metadata": {
            "tags": [],
            "needs_background": "light"
          }
        }
      ]
    },
    {
      "cell_type": "code",
      "metadata": {
        "colab": {
          "base_uri": "https://localhost:8080/",
          "height": 269
        },
        "id": "aZ71_iek0vUW",
        "outputId": "1a862817-c0d0-452a-a5c2-ba689f3a90be"
      },
      "source": [
        "for a in range(-10, 10):\n",
        "    for b in range(-10, 10):\n",
        "        plt.scatter(v_1[0] * a + v_2[0] * b,\n",
        "                    v_1[1] * a + v_2[1] * b,\n",
        "                    marker='.', color = 'orange')\n",
        "        \n",
        "plt.xlim(-100, 100)\n",
        "plt.ylim(-100, 100)\n",
        "\n",
        "plt.axvline(x=0, color='gray')\n",
        "plt.axhline(y=0, color='gray')\n",
        "\n",
        "plt.show()"
      ],
      "execution_count": 11,
      "outputs": [
        {
          "output_type": "display_data",
          "data": {
            "image/png": "[encoded data removed]",
            "text/plain": [
              "<Figure size 432x288 with 1 Axes>"
            ]
          },
          "metadata": {
            "tags": [],
            "needs_background": "light"
          }
        }
      ]
    }
  ]
}