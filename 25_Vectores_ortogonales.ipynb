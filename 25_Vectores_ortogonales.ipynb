{
  "nbformat": 4,
  "nbformat_minor": 0,
  "metadata": {
    "colab": {
      "name": "25-Vectores_ortogonales.ipynb",
      "provenance": [],
      "authorship_tag": "ABX9TyMKRpofQE+BOzrQlZw85xl0",
      "include_colab_link": true
    },
    "kernelspec": {
      "name": "python3",
      "display_name": "Python 3"
    },
    "language_info": {
      "name": "python"
    }
  },
  "cells": [
    {
      "cell_type": "markdown",
      "metadata": {
        "id": "view-in-github",
        "colab_type": "text"
      },
      "source": [
        "<a href=\"https://colab.research.google.com/github/bl00p1ng/Curso-algebra-lineal-python/blob/main/25_Vectores_ortogonales.ipynb\" target=\"_parent\"><img src=\"https://colab.research.google.com/assets/colab-badge.svg\" alt=\"Open In Colab\"/></a>"
      ]
    },
    {
      "cell_type": "markdown",
      "metadata": {
        "id": "0E5GtxS1jnYU"
      },
      "source": [
        "# Clase 25. Vectores ortogonales, matrices ortogonales y sus propiedades\n",
        "\n",
        "## Vectores ortogonales"
      ]
    },
    {
      "cell_type": "code",
      "metadata": {
        "id": "aNvyDSfxjzKc"
      },
      "source": [
        "import numpy as np\n",
        "import matplotlib.pyplot as plt"
      ],
      "execution_count": 2,
      "outputs": []
    },
    {
      "cell_type": "code",
      "metadata": {
        "colab": {
          "base_uri": "https://localhost:8080/",
          "height": 269
        },
        "id": "HqYXBWVbkAp3",
        "outputId": "3a3629a5-dd20-4f18-8962-0c32ad8710be"
      },
      "source": [
        "x = np.array([0,0,2,2])\n",
        "y = np.array([0,0,2,-2])\n",
        "\n",
        "plt.quiver([x[0], y[0]],\n",
        "           [x[1], y[1]],\n",
        "           [x[2], y[2]],\n",
        "           [x[3], y[3]],\n",
        "           angles='xy', scale_units='xy',\n",
        "           scale=1)\n",
        "\n",
        "plt.xlim(-2, 4)\n",
        "plt.ylim(-3, 3)\n",
        "\n",
        "plt.show()"
      ],
      "execution_count": 3,
      "outputs": [
        {
          "output_type": "display_data",
          "data": {
            "image/png": "[encoded data removed]",
            "text/plain": [
              "<Figure size 432x288 with 1 Axes>"
            ]
          },
          "metadata": {
            "tags": [],
            "needs_background": "light"
          }
        }
      ]
    },
    {
      "cell_type": "code",
      "metadata": {
        "colab": {
          "base_uri": "https://localhost:8080/",
          "height": 0
        },
        "id": "dSXn6yVnk03W",
        "outputId": "ab2ca30f-bf74-490b-9aa7-b219df64d8bc"
      },
      "source": [
        "v1 = np.array([[2,2]])\n",
        "v2 = np.array([[2,-2]])\n",
        "\n",
        "print(v1, v2)"
      ],
      "execution_count": 4,
      "outputs": [
        {
          "output_type": "stream",
          "text": [
            "[[2 2]] [[ 2 -2]]\n"
          ],
          "name": "stdout"
        }
      ]
    },
    {
      "cell_type": "code",
      "metadata": {
        "colab": {
          "base_uri": "https://localhost:8080/",
          "height": 0
        },
        "id": "ZSOFd9RtY6yo",
        "outputId": "920d8820-9ac6-49ed-cfc8-b824db2a6572"
      },
      "source": [
        "v1.dot(v2.T)"
      ],
      "execution_count": 5,
      "outputs": [
        {
          "output_type": "execute_result",
          "data": {
            "text/plain": [
              "array([[0]])"
            ]
          },
          "metadata": {
            "tags": []
          },
          "execution_count": 5
        }
      ]
    },
    {
      "cell_type": "markdown",
      "metadata": {
        "id": "umq94jauZMim"
      },
      "source": [
        "## Vectores ortonormales"
      ]
    },
    {
      "cell_type": "code",
      "metadata": {
        "colab": {
          "base_uri": "https://localhost:8080/",
          "height": 0
        },
        "id": "FyPhqMwiZdVA",
        "outputId": "528b7a96-98cf-4861-dfd1-1bcd00615208"
      },
      "source": [
        "print(np.linalg.norm(v1))\n",
        "print(np.linalg.norm(v2))"
      ],
      "execution_count": 6,
      "outputs": [
        {
          "output_type": "stream",
          "text": [
            "2.8284271247461903\n",
            "2.8284271247461903\n"
          ],
          "name": "stdout"
        }
      ]
    },
    {
      "cell_type": "markdown",
      "metadata": {
        "id": "7ZC3HJlEZqXl"
      },
      "source": [
        "⬆ En base a lo anterior se puede concluir que esos vectores no son ortonormales."
      ]
    },
    {
      "cell_type": "code",
      "metadata": {
        "id": "Ogzfv4vLZn_r"
      },
      "source": [
        "v1 = np.array([1,0])\n",
        "v2 = np.array([0,-1])"
      ],
      "execution_count": 7,
      "outputs": []
    },
    {
      "cell_type": "code",
      "metadata": {
        "colab": {
          "base_uri": "https://localhost:8080/",
          "height": 0
        },
        "id": "zCQTLW1XaAjN",
        "outputId": "0a9d159d-0fdf-42d5-cf3d-15776b273dcd"
      },
      "source": [
        "v1.dot(v2.T)"
      ],
      "execution_count": 8,
      "outputs": [
        {
          "output_type": "execute_result",
          "data": {
            "text/plain": [
              "0"
            ]
          },
          "metadata": {
            "tags": []
          },
          "execution_count": 8
        }
      ]
    },
    {
      "cell_type": "code",
      "metadata": {
        "colab": {
          "base_uri": "https://localhost:8080/",
          "height": 0
        },
        "id": "k4s3dvQaaIF6",
        "outputId": "f764f4bc-f68e-4a1a-cdba-7ef8bc709f7a"
      },
      "source": [
        "print(np.linalg.norm(v1))\n",
        "print(np.linalg.norm(v2))"
      ],
      "execution_count": 9,
      "outputs": [
        {
          "output_type": "stream",
          "text": [
            "1.0\n",
            "1.0\n"
          ],
          "name": "stdout"
        }
      ]
    },
    {
      "cell_type": "markdown",
      "metadata": {
        "id": "dqV1mdTdaJ_J"
      },
      "source": [
        "⬆ Los 2 vectores si son ortonormales."
      ]
    }
  ]
}