{
  "nbformat": 4,
  "nbformat_minor": 0,
  "metadata": {
    "colab": {
      "name": "05-Dimension-escalar_vector-tensor.ipynb",
      "provenance": [],
      "authorship_tag": "ABX9TyO/+6jbylZLLMOmwIz0KsTj",
      "include_colab_link": true
    },
    "kernelspec": {
      "name": "python3",
      "display_name": "Python 3"
    },
    "language_info": {
      "name": "python"
    }
  },
  "cells": [
    {
      "cell_type": "markdown",
      "metadata": {
        "id": "view-in-github",
        "colab_type": "text"
      },
      "source": [
        "<a href=\"https://colab.research.google.com/github/bl00p1ng/Curso-algebra-lineal-python/blob/main/05_Dimension_escalar_vector_tensor.ipynb\" target=\"_parent\"><img src=\"https://colab.research.google.com/assets/colab-badge.svg\" alt=\"Open In Colab\"/></a>"
      ]
    },
    {
      "cell_type": "markdown",
      "metadata": {
        "id": "6BuqZMHABilS"
      },
      "source": [
        "# Clase 5. Dimensión de un escalar, vector, matriz o tensor"
      ]
    },
    {
      "cell_type": "code",
      "metadata": {
        "id": "kvRuq-OiBK6J"
      },
      "source": [
        "import numpy as np"
      ],
      "execution_count": 1,
      "outputs": []
    },
    {
      "cell_type": "markdown",
      "metadata": {
        "id": "AQFdqcUcC8Xe"
      },
      "source": [
        "`shape` permite saber las dimenciones de un objeto (matriz, vector, tensor). \n",
        "\n",
        "**ℹ Nota:** los escalares no tienen dimensión, al usar `shape()` sobre un escalar se obtiene un error.\n",
        "\n",
        "- El primer número obtenido representa la cantidad de capas de matrices que tiene el tensor.\n",
        "- El segundo número obtenido representa la cantidad de filas que tiene cada matriz del tensor.\n",
        "- El tercer número obtenido representa la cantidad de columnas que tiene cada matriz del tensor."
      ]
    },
    {
      "cell_type": "code",
      "metadata": {
        "id": "ouK4-8pcBwZf"
      },
      "source": [
        "scalar = 5.679\n",
        "vector = np.array([1, 2, 3])\n",
        "matrix = np.array([[1, 2], [3, 4]])\n",
        "tensor = np.array([\n",
        "    [[1, 2, 3], [4, 5, 6], [6, 7, 8]],\n",
        "    [[11, 12, 13], [14, 15, 16], [17, 18, 29]],\n",
        "    [[21, 22, 23], [24, 25, 26], [27, 28, 29]]\n",
        "])"
      ],
      "execution_count": 3,
      "outputs": []
    },
    {
      "cell_type": "code",
      "metadata": {
        "colab": {
          "base_uri": "https://localhost:8080/"
        },
        "id": "qj9KaHDtIEWq",
        "outputId": "74925f01-ab8a-40d7-ae03-02994dcf1616"
      },
      "source": [
        "print(vector, '\\nDimensiones:', vector.shape)"
      ],
      "execution_count": 6,
      "outputs": [
        {
          "output_type": "stream",
          "text": [
            "[1 2 3] \n",
            "Dimensiones: (3,)\n"
          ],
          "name": "stdout"
        }
      ]
    },
    {
      "cell_type": "code",
      "metadata": {
        "colab": {
          "base_uri": "https://localhost:8080/"
        },
        "id": "T2g2qAWWIQgB",
        "outputId": "b5a158b6-74a6-4f9b-ffd2-392839edefac"
      },
      "source": [
        "print(matrix, '\\nDimensiones:', matrix.shape)"
      ],
      "execution_count": 7,
      "outputs": [
        {
          "output_type": "stream",
          "text": [
            "[[1 2]\n",
            " [3 4]] \n",
            "Dimensiones: (2, 2)\n"
          ],
          "name": "stdout"
        }
      ]
    },
    {
      "cell_type": "markdown",
      "metadata": {
        "id": "yPNdZrJNJDcd"
      },
      "source": [
        "`size` retorna el producto de las dimensiones o en otras palabras, el total de elementos."
      ]
    },
    {
      "cell_type": "code",
      "metadata": {
        "colab": {
          "base_uri": "https://localhost:8080/"
        },
        "id": "GmSHwc2CI3ky",
        "outputId": "681edd86-cefc-4bb1-82f2-51002a20b3a5"
      },
      "source": [
        "matrix.size"
      ],
      "execution_count": 8,
      "outputs": [
        {
          "output_type": "execute_result",
          "data": {
            "text/plain": [
              "4"
            ]
          },
          "metadata": {
            "tags": []
          },
          "execution_count": 8
        }
      ]
    },
    {
      "cell_type": "code",
      "metadata": {
        "colab": {
          "base_uri": "https://localhost:8080/"
        },
        "id": "C9w31gcLJdP7",
        "outputId": "ab0538f7-cb7c-44ca-a175-a3a76f234cc3"
      },
      "source": [
        "print(tensor, '\\nDimensiones:', tensor.shape)"
      ],
      "execution_count": 10,
      "outputs": [
        {
          "output_type": "stream",
          "text": [
            "[[[ 1  2  3]\n",
            "  [ 4  5  6]\n",
            "  [ 6  7  8]]\n",
            "\n",
            " [[11 12 13]\n",
            "  [14 15 16]\n",
            "  [17 18 29]]\n",
            "\n",
            " [[21 22 23]\n",
            "  [24 25 26]\n",
            "  [27 28 29]]] \n",
            "Dimensiones: (3, 3, 3)\n"
          ],
          "name": "stdout"
        }
      ]
    },
    {
      "cell_type": "markdown",
      "metadata": {
        "id": "wPQGQ7X8KOud"
      },
      "source": [
        "`shape` en el tensor anterior indica que este tiene 3 matrices de 3 filas y 3 columnas."
      ]
    },
    {
      "cell_type": "code",
      "metadata": {
        "id": "FxMLmbgmJovE"
      },
      "source": [
        ""
      ],
      "execution_count": null,
      "outputs": []
    }
  ]
}