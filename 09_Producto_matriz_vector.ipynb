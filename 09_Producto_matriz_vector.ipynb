{
  "nbformat": 4,
  "nbformat_minor": 0,
  "metadata": {
    "colab": {
      "name": "09-Producto_matriz_vector.ipynb",
      "provenance": [],
      "authorship_tag": "ABX9TyPN8u02N79T3G85p7gGQpc3",
      "include_colab_link": true
    },
    "kernelspec": {
      "name": "python3",
      "display_name": "Python 3"
    },
    "language_info": {
      "name": "python"
    }
  },
  "cells": [
    {
      "cell_type": "markdown",
      "metadata": {
        "id": "view-in-github",
        "colab_type": "text"
      },
      "source": [
        "<a href=\"https://colab.research.google.com/github/bl00p1ng/Curso-algebra-lineal-python/blob/main/09_Producto_matriz_vector.ipynb\" target=\"_parent\"><img src=\"https://colab.research.google.com/assets/colab-badge.svg\" alt=\"Open In Colab\"/></a>"
      ]
    },
    {
      "cell_type": "markdown",
      "metadata": {
        "id": "OwQVWAZxY3q7"
      },
      "source": [
        "# Clase 9. Producto interno entre una matriz y un vector"
      ]
    },
    {
      "cell_type": "code",
      "metadata": {
        "id": "2pm6k6k2ZJOq"
      },
      "source": [
        "import numpy as np"
      ],
      "execution_count": 1,
      "outputs": []
    },
    {
      "cell_type": "code",
      "metadata": {
        "id": "3RTL6WPlZPl2"
      },
      "source": [
        "scalar = 5.679\n",
        "vector = np.array([2, 3])\n",
        "matrix = np.array([[1,2], [3,4], [5,6]])"
      ],
      "execution_count": 2,
      "outputs": []
    },
    {
      "cell_type": "markdown",
      "metadata": {
        "id": "1lw5AF64hGHL"
      },
      "source": [
        "## Producto de una Matriz por un Vector"
      ]
    },
    {
      "cell_type": "code",
      "metadata": {
        "colab": {
          "base_uri": "https://localhost:8080/"
        },
        "id": "IVg9laQ2Z3Ax",
        "outputId": "5c18787d-7c47-4f58-f1d1-b7abfe281752"
      },
      "source": [
        "A = matrix * vector\n",
        "A"
      ],
      "execution_count": 3,
      "outputs": [
        {
          "output_type": "execute_result",
          "data": {
            "text/plain": [
              "array([[ 2,  6],\n",
              "       [ 6, 12],\n",
              "       [10, 18]])"
            ]
          },
          "metadata": {
            "tags": []
          },
          "execution_count": 3
        }
      ]
    },
    {
      "cell_type": "markdown",
      "metadata": {
        "id": "5u_7ioR8hMBZ"
      },
      "source": [
        "# Producto Interno"
      ]
    },
    {
      "cell_type": "code",
      "metadata": {
        "colab": {
          "base_uri": "https://localhost:8080/"
        },
        "id": "7vc480Y9Z7Cc",
        "outputId": "61dc343b-6f6e-4792-99c6-7336ef35a1d0"
      },
      "source": [
        "B = matrix.dot(vector)\n",
        "B"
      ],
      "execution_count": 4,
      "outputs": [
        {
          "output_type": "execute_result",
          "data": {
            "text/plain": [
              "array([ 8, 18, 28])"
            ]
          },
          "metadata": {
            "tags": []
          },
          "execution_count": 4
        }
      ]
    },
    {
      "cell_type": "markdown",
      "metadata": {
        "id": "oc_TlzoZhRsA"
      },
      "source": [
        "Otra forma de calcular el producto interno:"
      ]
    },
    {
      "cell_type": "code",
      "metadata": {
        "colab": {
          "base_uri": "https://localhost:8080/"
        },
        "id": "mmgvRjn0hVr1",
        "outputId": "57bca71d-1457-4945-acc4-6668c51b8276"
      },
      "source": [
        "C = np.dot(matrix, vector)\n",
        "C"
      ],
      "execution_count": 5,
      "outputs": [
        {
          "output_type": "execute_result",
          "data": {
            "text/plain": [
              "array([ 8, 18, 28])"
            ]
          },
          "metadata": {
            "tags": []
          },
          "execution_count": 5
        }
      ]
    }
  ]
}