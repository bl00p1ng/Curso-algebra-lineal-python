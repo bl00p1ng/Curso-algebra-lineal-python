{
  "nbformat": 4,
  "nbformat_minor": 0,
  "metadata": {
    "colab": {
      "name": "14-Inversa_sistema_ecuaciones_lineales.ipynb",
      "provenance": [],
      "collapsed_sections": [],
      "authorship_tag": "ABX9TyOGhJzqZhf2JCLxlzav0JkG",
      "include_colab_link": true
    },
    "kernelspec": {
      "name": "python3",
      "display_name": "Python 3"
    },
    "language_info": {
      "name": "python"
    }
  },
  "cells": [
    {
      "cell_type": "markdown",
      "metadata": {
        "id": "view-in-github",
        "colab_type": "text"
      },
      "source": [
        "<a href=\"https://colab.research.google.com/github/bl00p1ng/Curso-algebra-lineal-python/blob/main/14_Inversa_sistema_ecuaciones_lineales.ipynb\" target=\"_parent\"><img src=\"https://colab.research.google.com/assets/colab-badge.svg\" alt=\"Open In Colab\"/></a>"
      ]
    },
    {
      "cell_type": "markdown",
      "metadata": {
        "id": "i6nTZWHOzjHk"
      },
      "source": [
        "# Clase 14. Aplicación de la inversa de una matriz para resolver un sistema de ecuaciones lineales\n",
        "\n",
        "Se tiene el siguiente sistema de ecuaciones:\n",
        "$$\\begin{bmatrix}\n",
        "3 & 1 \\\\\n",
        "2 & 1\n",
        "\\end{bmatrix}\n",
        "\\begin{bmatrix}\n",
        "x \\\\\n",
        "y\n",
        "\\end{bmatrix}=\n",
        "\\begin{bmatrix}\n",
        "1 \\\\\n",
        "1\n",
        "\\end{bmatrix}$$"
      ]
    },
    {
      "cell_type": "markdown",
      "metadata": {
        "id": "6ElUO8P60jew"
      },
      "source": [
        "## Despejar el sistema de ecuaciones usando Numpy"
      ]
    },
    {
      "cell_type": "code",
      "metadata": {
        "id": "fLnFPVoUzue-"
      },
      "source": [
        "import numpy as np"
      ],
      "execution_count": 1,
      "outputs": []
    },
    {
      "cell_type": "markdown",
      "metadata": {
        "id": "M2wRwh3Q0zOq"
      },
      "source": [
        "Configura a Numpy para que si se tienen números muy cercanos a cero se muestre cero en lugar de un número flotante muy pequeño"
      ]
    },
    {
      "cell_type": "code",
      "metadata": {
        "id": "zM52uwjhzyfg"
      },
      "source": [
        "np.set_printoptions(suppress=True)"
      ],
      "execution_count": 3,
      "outputs": []
    },
    {
      "cell_type": "code",
      "metadata": {
        "colab": {
          "base_uri": "https://localhost:8080/"
        },
        "id": "dtsPCyvP1GhX",
        "outputId": "76e357d8-dec6-4233-d9db-c9f9ca5d9375"
      },
      "source": [
        "A = np.array([[3,1], [2,1]])\n",
        "A"
      ],
      "execution_count": 4,
      "outputs": [
        {
          "output_type": "execute_result",
          "data": {
            "text/plain": [
              "array([[3, 1],\n",
              "       [2, 1]])"
            ]
          },
          "metadata": {
            "tags": []
          },
          "execution_count": 4
        }
      ]
    },
    {
      "cell_type": "code",
      "metadata": {
        "colab": {
          "base_uri": "https://localhost:8080/"
        },
        "id": "qC-ojM4Q1KPt",
        "outputId": "ef67ec52-4029-4819-ae1d-f3bc8b7807a2"
      },
      "source": [
        "b = np.array([[1], [1]])\n",
        "b"
      ],
      "execution_count": 5,
      "outputs": [
        {
          "output_type": "execute_result",
          "data": {
            "text/plain": [
              "array([[1],\n",
              "       [1]])"
            ]
          },
          "metadata": {
            "tags": []
          },
          "execution_count": 5
        }
      ]
    },
    {
      "cell_type": "code",
      "metadata": {
        "colab": {
          "base_uri": "https://localhost:8080/"
        },
        "id": "qiPv-igy1Q9d",
        "outputId": "c83c77ca-89c1-42af-e81e-3e423f37ab06"
      },
      "source": [
        "A_inverse = np.linalg.inv(A)\n",
        "A_inverse"
      ],
      "execution_count": 6,
      "outputs": [
        {
          "output_type": "execute_result",
          "data": {
            "text/plain": [
              "array([[ 1., -1.],\n",
              "       [-2.,  3.]])"
            ]
          },
          "metadata": {
            "tags": []
          },
          "execution_count": 6
        }
      ]
    },
    {
      "cell_type": "code",
      "metadata": {
        "colab": {
          "base_uri": "https://localhost:8080/"
        },
        "id": "7MFq3XG01Wnc",
        "outputId": "f882bb09-36d3-4f7b-f624-1ee8e3653965"
      },
      "source": [
        "x = A_inverse.dot(b)\n",
        "x"
      ],
      "execution_count": 7,
      "outputs": [
        {
          "output_type": "execute_result",
          "data": {
            "text/plain": [
              "array([[0.],\n",
              "       [1.]])"
            ]
          },
          "metadata": {
            "tags": []
          },
          "execution_count": 7
        }
      ]
    },
    {
      "cell_type": "markdown",
      "metadata": {
        "id": "6F1BofeL3ioH"
      },
      "source": [
        "Se comprueba el resultado sustituyendo los valores en la ecuación\n",
        "\n",
        "$$3(0)+1(1)=1 \\\\\n",
        "2(0)+1(1)= 1$$"
      ]
    },
    {
      "cell_type": "code",
      "metadata": {
        "colab": {
          "base_uri": "https://localhost:8080/"
        },
        "id": "jyyV5-q41dvF",
        "outputId": "18949d7c-9310-4a79-a07d-bd8346cb4c91"
      },
      "source": [
        "A.dot(x)"
      ],
      "execution_count": 8,
      "outputs": [
        {
          "output_type": "execute_result",
          "data": {
            "text/plain": [
              "array([[1.],\n",
              "       [1.]])"
            ]
          },
          "metadata": {
            "tags": []
          },
          "execution_count": 8
        }
      ]
    },
    {
      "cell_type": "markdown",
      "metadata": {
        "id": "XH83R4Wf3T7S"
      },
      "source": [
        "Se puede usar la misma matriz inversa en una ecuación igualada a otros coeficientes:\n",
        "\n",
        "$$3x+7=3 \\\\\n",
        "2x+y=7$$"
      ]
    },
    {
      "cell_type": "code",
      "metadata": {
        "colab": {
          "base_uri": "https://localhost:8080/"
        },
        "id": "r_Qb6agu4iHo",
        "outputId": "1983bdaf-3d39-4387-8335-a8373c57b593"
      },
      "source": [
        "sol_2 = A_inverse.dot(np.array([[3], [7]]))\n",
        "sol_2"
      ],
      "execution_count": 10,
      "outputs": [
        {
          "output_type": "execute_result",
          "data": {
            "text/plain": [
              "array([[-4.],\n",
              "       [15.]])"
            ]
          },
          "metadata": {
            "tags": []
          },
          "execution_count": 10
        }
      ]
    },
    {
      "cell_type": "markdown",
      "metadata": {
        "id": "HSrYx8rF5E0a"
      },
      "source": [
        "Comprobar la solución:"
      ]
    },
    {
      "cell_type": "code",
      "metadata": {
        "colab": {
          "base_uri": "https://localhost:8080/"
        },
        "id": "sIdkSKaj4_pG",
        "outputId": "035616c6-e643-41a7-88a2-dee7fb48dbfd"
      },
      "source": [
        "A.dot(sol_2)"
      ],
      "execution_count": 12,
      "outputs": [
        {
          "output_type": "execute_result",
          "data": {
            "text/plain": [
              "array([[3.],\n",
              "       [7.]])"
            ]
          },
          "metadata": {
            "tags": []
          },
          "execution_count": 12
        }
      ]
    }
  ]
}