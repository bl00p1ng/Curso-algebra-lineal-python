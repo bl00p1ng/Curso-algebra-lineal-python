{
  "nbformat": 4,
  "nbformat_minor": 0,
  "metadata": {
    "colab": {
      "name": "26-Matrices_ortogonales.ipynb",
      "provenance": [],
      "authorship_tag": "ABX9TyPOmM4Vkj+/oDJcpQnptNva",
      "include_colab_link": true
    },
    "kernelspec": {
      "name": "python3",
      "display_name": "Python 3"
    },
    "language_info": {
      "name": "python"
    }
  },
  "cells": [
    {
      "cell_type": "markdown",
      "metadata": {
        "id": "view-in-github",
        "colab_type": "text"
      },
      "source": [
        "<a href=\"https://colab.research.google.com/github/bl00p1ng/Curso-algebra-lineal-python/blob/main/26_Matrices_ortogonales.ipynb\" target=\"_parent\"><img src=\"https://colab.research.google.com/assets/colab-badge.svg\" alt=\"Open In Colab\"/></a>"
      ]
    },
    {
      "cell_type": "markdown",
      "metadata": {
        "id": "CpO-fuFY4b1T"
      },
      "source": [
        "# Clase 26. Matrices ortogonales y sus propiedades"
      ]
    },
    {
      "cell_type": "code",
      "metadata": {
        "id": "0y74cWP4chnd"
      },
      "source": [
        "import numpy as np"
      ],
      "execution_count": 1,
      "outputs": []
    },
    {
      "cell_type": "code",
      "metadata": {
        "colab": {
          "base_uri": "https://localhost:8080/"
        },
        "id": "yi6pBKhbcsSt",
        "outputId": "4e318e93-d5af-47c0-9031-5c1a548e90dd"
      },
      "source": [
        "matrix = np.array([[1,0,0],\n",
        "                   [0,1,0],\n",
        "                   [0,0,1]])\n",
        "\n",
        "matrix"
      ],
      "execution_count": 2,
      "outputs": [
        {
          "output_type": "execute_result",
          "data": {
            "text/plain": [
              "array([[1, 0, 0],\n",
              "       [0, 1, 0],\n",
              "       [0, 0, 1]])"
            ]
          },
          "metadata": {
            "tags": []
          },
          "execution_count": 2
        }
      ]
    },
    {
      "cell_type": "markdown",
      "metadata": {
        "id": "MMq1egMddbdR"
      },
      "source": [
        "$v_1$ ortogonal a $v_2$:"
      ]
    },
    {
      "cell_type": "code",
      "metadata": {
        "colab": {
          "base_uri": "https://localhost:8080/"
        },
        "id": "XM-K9WI9dAVG",
        "outputId": "48351ab4-a6a2-4e6d-fdd6-7d212b5e567d"
      },
      "source": [
        "matrix[:,0].dot(matrix[:,1])"
      ],
      "execution_count": 3,
      "outputs": [
        {
          "output_type": "execute_result",
          "data": {
            "text/plain": [
              "0"
            ]
          },
          "metadata": {
            "tags": []
          },
          "execution_count": 3
        }
      ]
    },
    {
      "cell_type": "markdown",
      "metadata": {
        "id": "jFLZcmKXdt6X"
      },
      "source": [
        "$v_2$ ortogonal a $v_3$"
      ]
    },
    {
      "cell_type": "code",
      "metadata": {
        "colab": {
          "base_uri": "https://localhost:8080/"
        },
        "id": "9YzeiPrDdOT8",
        "outputId": "9f0ddd94-ce06-419a-ad1a-4899e52e7a04"
      },
      "source": [
        "matrix[:,1].dot(matrix[:,2])"
      ],
      "execution_count": 4,
      "outputs": [
        {
          "output_type": "execute_result",
          "data": {
            "text/plain": [
              "0"
            ]
          },
          "metadata": {
            "tags": []
          },
          "execution_count": 4
        }
      ]
    },
    {
      "cell_type": "markdown",
      "metadata": {
        "id": "_14Z_N40d3Wi"
      },
      "source": [
        "$v_1$ es ortogonal a $v_3$"
      ]
    },
    {
      "cell_type": "code",
      "metadata": {
        "colab": {
          "base_uri": "https://localhost:8080/"
        },
        "id": "F5bEzvpqdorP",
        "outputId": "8ec4da53-0cb3-4708-b4e4-2755b8583382"
      },
      "source": [
        "matrix[:,1].dot(matrix[:,2])"
      ],
      "execution_count": 5,
      "outputs": [
        {
          "output_type": "execute_result",
          "data": {
            "text/plain": [
              "0"
            ]
          },
          "metadata": {
            "tags": []
          },
          "execution_count": 5
        }
      ]
    },
    {
      "cell_type": "markdown",
      "metadata": {
        "id": "4HViJy9vsQIP"
      },
      "source": [
        "Revisar que la norma sea 1:"
      ]
    },
    {
      "cell_type": "code",
      "metadata": {
        "colab": {
          "base_uri": "https://localhost:8080/"
        },
        "id": "aIyPcwgNdrjd",
        "outputId": "f5edfa42-159c-4b4a-d47c-a86948e9e463"
      },
      "source": [
        "print(np.linalg.norm(matrix[:,0]))\n",
        "print(np.linalg.norm(matrix[:,1]))\n",
        "print(np.linalg.norm(matrix[:,2]))"
      ],
      "execution_count": 6,
      "outputs": [
        {
          "output_type": "stream",
          "text": [
            "1.0\n",
            "1.0\n",
            "1.0\n"
          ],
          "name": "stdout"
        }
      ]
    },
    {
      "cell_type": "markdown",
      "metadata": {
        "id": "7pDZRZ8ZhBCl"
      },
      "source": [
        "## Revisar que las filas sean ortonormales"
      ]
    },
    {
      "cell_type": "code",
      "metadata": {
        "colab": {
          "base_uri": "https://localhost:8080/"
        },
        "id": "pkL2bb7prtFV",
        "outputId": "48b63baa-76ee-473c-f189-61a393aa3a50"
      },
      "source": [
        "print(matrix[0,:].dot(matrix[1,:]))\n",
        "print(matrix[0,:].dot(matrix[2,:]))\n",
        "print(matrix[1,:].dot(matrix[2,:]))"
      ],
      "execution_count": 7,
      "outputs": [
        {
          "output_type": "stream",
          "text": [
            "0\n",
            "0\n",
            "0\n"
          ],
          "name": "stdout"
        }
      ]
    },
    {
      "cell_type": "markdown",
      "metadata": {
        "id": "c0xtPLV-sEji"
      },
      "source": [
        "Revisar que la norma sea 1:"
      ]
    },
    {
      "cell_type": "code",
      "metadata": {
        "colab": {
          "base_uri": "https://localhost:8080/"
        },
        "id": "XmX5eNyqsJyM",
        "outputId": "da1bff82-8b0f-4060-c695-0c1644185636"
      },
      "source": [
        "print(np.linalg.norm(matrix[0,:]))\n",
        "print(np.linalg.norm(matrix[1,:]))\n",
        "print(np.linalg.norm(matrix[2,:]))"
      ],
      "execution_count": 8,
      "outputs": [
        {
          "output_type": "stream",
          "text": [
            "1.0\n",
            "1.0\n",
            "1.0\n"
          ],
          "name": "stdout"
        }
      ]
    },
    {
      "cell_type": "markdown",
      "metadata": {
        "id": "AePoSyPCsmKO"
      },
      "source": [
        "## Propiedades de las matrices ortogonales"
      ]
    },
    {
      "cell_type": "code",
      "metadata": {
        "colab": {
          "base_uri": "https://localhost:8080/"
        },
        "id": "n9_8-FEvssWA",
        "outputId": "073fb63e-0d84-4dce-fd0b-cf9fd4c20ac1"
      },
      "source": [
        "A = np.array([[np.cos(100), -np.sin(100)],\n",
        "             [np.sin(100), np.cos(100)]])\n",
        "\n",
        "A"
      ],
      "execution_count": 9,
      "outputs": [
        {
          "output_type": "execute_result",
          "data": {
            "text/plain": [
              "array([[ 0.86231887,  0.50636564],\n",
              "       [-0.50636564,  0.86231887]])"
            ]
          },
          "metadata": {
            "tags": []
          },
          "execution_count": 9
        }
      ]
    },
    {
      "cell_type": "markdown",
      "metadata": {
        "id": "FpEPZKMgzJ91"
      },
      "source": [
        "Comprobar que la matriz sea ortogonal:"
      ]
    },
    {
      "cell_type": "code",
      "metadata": {
        "colab": {
          "base_uri": "https://localhost:8080/"
        },
        "id": "KZFv4ujJzR4-",
        "outputId": "f1a11a15-42a1-448d-cdb1-4c99edff03ad"
      },
      "source": [
        "print(np.linalg.norm(A[0,:]))\n",
        "print(np.linalg.norm(A[1,:]))\n",
        "print(np.linalg.norm(A[:,0]))\n",
        "print(np.linalg.norm(A[:,1]))"
      ],
      "execution_count": 10,
      "outputs": [
        {
          "output_type": "stream",
          "text": [
            "0.9999999999999999\n",
            "0.9999999999999999\n",
            "0.9999999999999999\n",
            "0.9999999999999999\n"
          ],
          "name": "stdout"
        }
      ]
    },
    {
      "cell_type": "code",
      "metadata": {
        "colab": {
          "base_uri": "https://localhost:8080/"
        },
        "id": "vI6gPq5N0HaO",
        "outputId": "7e7823b9-229a-457c-da3e-ede21297e2ea"
      },
      "source": [
        "M = A[0,:].dot(A[1,:])\n",
        "N = A[:,0].dot(A[:,1])\n",
        "\n",
        "print(round(M,2))    # Es igual a 0.0\n",
        "print(round(N,2))    # Es igual a 0.0"
      ],
      "execution_count": 15,
      "outputs": [
        {
          "output_type": "stream",
          "text": [
            "0.0\n",
            "-0.0\n"
          ],
          "name": "stdout"
        }
      ]
    },
    {
      "cell_type": "code",
      "metadata": {
        "colab": {
          "base_uri": "https://localhost:8080/"
        },
        "id": "0hwy1eo12lqR",
        "outputId": "e314c53e-56fe-4146-89b5-081a1dc5132a"
      },
      "source": [
        "A_t = A.T\n",
        "\n",
        "print(A_t.dot(A))\n",
        "print(A.dot(A_t))"
      ],
      "execution_count": 20,
      "outputs": [
        {
          "output_type": "stream",
          "text": [
            "[[ 1. -0.]\n",
            " [-0.  1.]]\n",
            "[[1. 0.]\n",
            " [0. 1.]]\n"
          ],
          "name": "stdout"
        }
      ]
    },
    {
      "cell_type": "code",
      "metadata": {
        "colab": {
          "base_uri": "https://localhost:8080/"
        },
        "id": "SFOwUbEW2qYI",
        "outputId": "3a61f750-b622-439a-c2d0-e4bd3b4b8e05"
      },
      "source": [
        "A_inv = np.linalg.inv(A)\n",
        "A_inv"
      ],
      "execution_count": 22,
      "outputs": [
        {
          "output_type": "execute_result",
          "data": {
            "text/plain": [
              "array([[ 0.86231887, -0.50636564],\n",
              "       [ 0.50636564,  0.86231887]])"
            ]
          },
          "metadata": {
            "tags": []
          },
          "execution_count": 22
        }
      ]
    },
    {
      "cell_type": "code",
      "metadata": {
        "colab": {
          "base_uri": "https://localhost:8080/"
        },
        "id": "Qxt0h-rG3vKr",
        "outputId": "3b0dec66-bfc6-4335-e7a8-fc4c22c90ff3"
      },
      "source": [
        "print(A_t)"
      ],
      "execution_count": 23,
      "outputs": [
        {
          "output_type": "stream",
          "text": [
            "[[ 0.86231887 -0.50636564]\n",
            " [ 0.50636564  0.86231887]]\n"
          ],
          "name": "stdout"
        }
      ]
    },
    {
      "cell_type": "code",
      "metadata": {
        "colab": {
          "base_uri": "https://localhost:8080/"
        },
        "id": "KWTKNVuG31nQ",
        "outputId": "ce7f2440-550c-4371-ef4c-373741038e9e"
      },
      "source": [
        "1/A_t.dot(A)"
      ],
      "execution_count": 24,
      "outputs": [
        {
          "output_type": "execute_result",
          "data": {
            "text/plain": [
              "array([[ 1.00000000e+00, -1.25980837e+17],\n",
              "       [-1.25980837e+17,  1.00000000e+00]])"
            ]
          },
          "metadata": {
            "tags": []
          },
          "execution_count": 24
        }
      ]
    }
  ]
}