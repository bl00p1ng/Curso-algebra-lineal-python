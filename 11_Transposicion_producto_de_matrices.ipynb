{
  "nbformat": 4,
  "nbformat_minor": 0,
  "metadata": {
    "colab": {
      "name": "11-Transposicion_producto_de_matrices.ipynb",
      "provenance": [],
      "authorship_tag": "ABX9TyNgF+AwJF7ZUkX0HwvaB4gy",
      "include_colab_link": true
    },
    "kernelspec": {
      "name": "python3",
      "display_name": "Python 3"
    },
    "language_info": {
      "name": "python"
    }
  },
  "cells": [
    {
      "cell_type": "markdown",
      "metadata": {
        "id": "view-in-github",
        "colab_type": "text"
      },
      "source": [
        "<a href=\"https://colab.research.google.com/github/bl00p1ng/Curso-algebra-lineal-python/blob/main/11_Transposicion_producto_de_matrices.ipynb\" target=\"_parent\"><img src=\"https://colab.research.google.com/assets/colab-badge.svg\" alt=\"Open In Colab\"/></a>"
      ]
    },
    {
      "cell_type": "markdown",
      "metadata": {
        "id": "Dic5BsYjT_Ph"
      },
      "source": [
        "# Clase 11. Transposición de un producto de matrices"
      ]
    },
    {
      "cell_type": "code",
      "metadata": {
        "id": "0swHSdtbUKGG"
      },
      "source": [
        "import numpy as np"
      ],
      "execution_count": 1,
      "outputs": []
    },
    {
      "cell_type": "code",
      "metadata": {
        "colab": {
          "base_uri": "https://localhost:8080/"
        },
        "id": "6s4HU3T6UMB_",
        "outputId": "fa510be6-3323-42f3-fcae-19af1fd4065e"
      },
      "source": [
        "A = np.array([[2,3], [5,7], [11,13]])\n",
        "B = np.array([[1,3], [2,1]])\n",
        "\n",
        "print(A, '\\n')\n",
        "print(B)"
      ],
      "execution_count": 4,
      "outputs": [
        {
          "output_type": "stream",
          "text": [
            "[[ 2  3]\n",
            " [ 5  7]\n",
            " [11 13]] \n",
            "\n",
            "[[1 3]\n",
            " [2 1]]\n"
          ],
          "name": "stdout"
        }
      ]
    },
    {
      "cell_type": "code",
      "metadata": {
        "colab": {
          "base_uri": "https://localhost:8080/"
        },
        "id": "iU4-uBgaUZfK",
        "outputId": "272ec30a-97e5-4ccc-8165-7a8b204b3fa6"
      },
      "source": [
        "A.dot(B).T"
      ],
      "execution_count": 5,
      "outputs": [
        {
          "output_type": "execute_result",
          "data": {
            "text/plain": [
              "array([[ 8, 19, 37],\n",
              "       [ 9, 22, 46]])"
            ]
          },
          "metadata": {
            "tags": []
          },
          "execution_count": 5
        }
      ]
    },
    {
      "cell_type": "code",
      "metadata": {
        "colab": {
          "base_uri": "https://localhost:8080/"
        },
        "id": "UWmFEvHTVCHa",
        "outputId": "a0bcb201-f532-458b-856e-998fb5e0d718"
      },
      "source": [
        "B.T.dot(A.T)"
      ],
      "execution_count": 6,
      "outputs": [
        {
          "output_type": "execute_result",
          "data": {
            "text/plain": [
              "array([[ 8, 19, 37],\n",
              "       [ 9, 22, 46]])"
            ]
          },
          "metadata": {
            "tags": []
          },
          "execution_count": 6
        }
      ]
    }
  ]
}