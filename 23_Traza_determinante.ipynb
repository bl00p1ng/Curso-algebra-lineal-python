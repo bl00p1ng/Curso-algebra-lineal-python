{
  "nbformat": 4,
  "nbformat_minor": 0,
  "metadata": {
    "colab": {
      "name": "23-Traza-determinante.ipynb",
      "provenance": [],
      "mount_file_id": "1vV_cMqE8TJ2VHuM6ahGFs2xHjrRsZlrF",
      "authorship_tag": "ABX9TyNZVRhK13sew0uohdMBrIeq",
      "include_colab_link": true
    },
    "kernelspec": {
      "name": "python3",
      "display_name": "Python 3"
    },
    "language_info": {
      "name": "python"
    }
  },
  "cells": [
    {
      "cell_type": "markdown",
      "metadata": {
        "id": "view-in-github",
        "colab_type": "text"
      },
      "source": [
        "<a href=\"https://colab.research.google.com/github/bl00p1ng/Curso-algebra-lineal-python/blob/main/23_Traza_determinante.ipynb\" target=\"_parent\"><img src=\"https://colab.research.google.com/assets/colab-badge.svg\" alt=\"Open In Colab\"/></a>"
      ]
    },
    {
      "cell_type": "code",
      "metadata": {
        "id": "0ATjRXECAA0P"
      },
      "source": [
        ""
      ],
      "execution_count": null,
      "outputs": []
    },
    {
      "cell_type": "code",
      "metadata": {
        "id": "3__nzgv3ALZW"
      },
      "source": [
        "import numpy as np"
      ],
      "execution_count": 1,
      "outputs": []
    },
    {
      "cell_type": "code",
      "metadata": {
        "colab": {
          "base_uri": "https://localhost:8080/"
        },
        "id": "PIw6it_6ASpM",
        "outputId": "73cd9620-8a7d-4296-9c12-6ae2ceea73df"
      },
      "source": [
        "matrix = np.array([[1,2,3],\n",
        "                   [4,5,6],\n",
        "                   [7,8,9]])\n",
        "\n",
        "matrix"
      ],
      "execution_count": 2,
      "outputs": [
        {
          "output_type": "execute_result",
          "data": {
            "text/plain": [
              "array([[1, 2, 3],\n",
              "       [4, 5, 6],\n",
              "       [7, 8, 9]])"
            ]
          },
          "metadata": {
            "tags": []
          },
          "execution_count": 2
        }
      ]
    },
    {
      "cell_type": "code",
      "metadata": {
        "colab": {
          "base_uri": "https://localhost:8080/"
        },
        "id": "7JuKX7KiA3cv",
        "outputId": "48cb5654-45e2-4f6c-fcea-b2c6204598c8"
      },
      "source": [
        "trace = np.trace(matrix)\n",
        "trace"
      ],
      "execution_count": 3,
      "outputs": [
        {
          "output_type": "execute_result",
          "data": {
            "text/plain": [
              "15"
            ]
          },
          "metadata": {
            "tags": []
          },
          "execution_count": 3
        }
      ]
    },
    {
      "cell_type": "code",
      "metadata": {
        "id": "9gTvmN1TBD0g"
      },
      "source": [
        "import matplotlib.pyplot as plt"
      ],
      "execution_count": 4,
      "outputs": []
    },
    {
      "cell_type": "code",
      "metadata": {
        "id": "KkfXSHBYC0pL"
      },
      "source": [
        "%run '/content/drive/MyDrive/Colab Notebooks/Curso-algebra-lineal-python/aux_funcs/plot_vectors.ipynb'"
      ],
      "execution_count": 5,
      "outputs": []
    },
    {
      "cell_type": "code",
      "metadata": {
        "colab": {
          "base_uri": "https://localhost:8080/",
          "height": 269
        },
        "id": "LHgxhsLbDQEi",
        "outputId": "b5f03844-7b52-4661-cb95-95998405f0bd"
      },
      "source": [
        "v1 = np.array([0,1])\n",
        "v2 = np.array([1,0])\n",
        "\n",
        "plot_vectors([v1, v2], ['blue', 'red'])\n",
        "\n",
        "plt.xlim(-0.25, 2)\n",
        "plt.ylim(-0.25, 2)\n",
        "\n",
        "plt.show()"
      ],
      "execution_count": 9,
      "outputs": [
        {
          "output_type": "display_data",
          "data": {
            "image/png": "[encoded data removed]",
            "text/plain": [
              "<Figure size 432x288 with 1 Axes>"
            ]
          },
          "metadata": {
            "tags": [],
            "needs_background": "light"
          }
        }
      ]
    },
    {
      "cell_type": "code",
      "metadata": {
        "colab": {
          "base_uri": "https://localhost:8080/"
        },
        "id": "ADSSkc0DEWP9",
        "outputId": "d2cc0e67-e633-4cf2-810c-a6e33af0c6c4"
      },
      "source": [
        "A = np.array([[2,0], [0,2]])\n",
        "A"
      ],
      "execution_count": 10,
      "outputs": [
        {
          "output_type": "execute_result",
          "data": {
            "text/plain": [
              "array([[2, 0],\n",
              "       [0, 2]])"
            ]
          },
          "metadata": {
            "tags": []
          },
          "execution_count": 10
        }
      ]
    },
    {
      "cell_type": "code",
      "metadata": {
        "colab": {
          "base_uri": "https://localhost:8080/",
          "height": 269
        },
        "id": "kBkEbxfmEc2G",
        "outputId": "49913b78-a764-4482-d095-4798bbd8345d"
      },
      "source": [
        "v1_trans = A.dot(v1)\n",
        "v2_trans = A.dot(v2)\n",
        "\n",
        "plot_vectors([v1_trans, v2_trans], ['orange', 'green'])\n",
        "\n",
        "plt.xlim(-0.25, 3)\n",
        "plt.ylim(-0.25, 3)\n",
        "\n",
        "plt.show()"
      ],
      "execution_count": 12,
      "outputs": [
        {
          "output_type": "display_data",
          "data": {
            "image/png": "[encoded data removed]",
            "text/plain": [
              "<Figure size 432x288 with 1 Axes>"
            ]
          },
          "metadata": {
            "tags": [],
            "needs_background": "light"
          }
        }
      ]
    },
    {
      "cell_type": "code",
      "metadata": {
        "colab": {
          "base_uri": "https://localhost:8080/"
        },
        "id": "BL0Rr1ReE9vr",
        "outputId": "1da2f843-f926-4689-a16b-90ed408e549b"
      },
      "source": [
        "det_a = np.linalg.det(A)\n",
        "det_a"
      ],
      "execution_count": 13,
      "outputs": [
        {
          "output_type": "execute_result",
          "data": {
            "text/plain": [
              "4.0"
            ]
          },
          "metadata": {
            "tags": []
          },
          "execution_count": 13
        }
      ]
    },
    {
      "cell_type": "code",
      "metadata": {
        "colab": {
          "base_uri": "https://localhost:8080/"
        },
        "id": "Y_4yi99aFUTn",
        "outputId": "a48e6be1-1bf9-414e-ba30-13158da90a30"
      },
      "source": [
        "area_trans = abs((v1_trans[0] - v2_trans[0])) * (abs(v1_trans[1] - v2_trans[1]))\n",
        "area_trans"
      ],
      "execution_count": 14,
      "outputs": [
        {
          "output_type": "execute_result",
          "data": {
            "text/plain": [
              "4"
            ]
          },
          "metadata": {
            "tags": []
          },
          "execution_count": 14
        }
      ]
    },
    {
      "cell_type": "code",
      "metadata": {
        "colab": {
          "base_uri": "https://localhost:8080/"
        },
        "id": "DuYvsfGIHSSQ",
        "outputId": "57dc91e6-d485-47ba-dea0-32674c1b8fb6"
      },
      "source": [
        "B = A * [-1, 1]\n",
        "B"
      ],
      "execution_count": 15,
      "outputs": [
        {
          "output_type": "execute_result",
          "data": {
            "text/plain": [
              "array([[-2,  0],\n",
              "       [ 0,  2]])"
            ]
          },
          "metadata": {
            "tags": []
          },
          "execution_count": 15
        }
      ]
    },
    {
      "cell_type": "code",
      "metadata": {
        "colab": {
          "base_uri": "https://localhost:8080/"
        },
        "id": "Z4UYCextHYyn",
        "outputId": "af3780c9-5b14-402d-a025-810827a50595"
      },
      "source": [
        "det_b = np.linalg.det(B)\n",
        "det_b"
      ],
      "execution_count": 16,
      "outputs": [
        {
          "output_type": "execute_result",
          "data": {
            "text/plain": [
              "-4.0"
            ]
          },
          "metadata": {
            "tags": []
          },
          "execution_count": 16
        }
      ]
    },
    {
      "cell_type": "code",
      "metadata": {
        "colab": {
          "base_uri": "https://localhost:8080/",
          "height": 269
        },
        "id": "rXxPusBOHgjm",
        "outputId": "1589d950-bc7e-49ea-db8a-8a6f0f472462"
      },
      "source": [
        "v1 = np.array([0,1])\n",
        "v2 = np.array([1,0])\n",
        "\n",
        "v1_trans = B.dot(v1)\n",
        "v2_trans = B.dot(v2)\n",
        "\n",
        "plot_vectors([v1_trans, v2_trans, v1, v2],\n",
        "             ['blue', 'red', 'orange', 'green'])\n",
        "\n",
        "plt.xlim(-3, 1.5)\n",
        "plt.ylim(-0.5, 2.5)\n",
        "\n",
        "plt.show()"
      ],
      "execution_count": 18,
      "outputs": [
        {
          "output_type": "display_data",
          "data": {
            "image/png": "[encoded data removed]",
            "text/plain": [
              "<Figure size 432x288 with 1 Axes>"
            ]
          },
          "metadata": {
            "tags": [],
            "needs_background": "light"
          }
        }
      ]
    }
  ]
}