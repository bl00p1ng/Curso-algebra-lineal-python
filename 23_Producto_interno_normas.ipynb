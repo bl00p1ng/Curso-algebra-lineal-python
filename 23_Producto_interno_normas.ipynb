{
  "nbformat": 4,
  "nbformat_minor": 0,
  "metadata": {
    "colab": {
      "name": "23-Producto_interno_normas.ipynb",
      "provenance": [],
      "authorship_tag": "ABX9TyMWavjfDnfw1lq/VIME2SpC",
      "include_colab_link": true
    },
    "kernelspec": {
      "name": "python3",
      "display_name": "Python 3"
    },
    "language_info": {
      "name": "python"
    }
  },
  "cells": [
    {
      "cell_type": "markdown",
      "metadata": {
        "id": "view-in-github",
        "colab_type": "text"
      },
      "source": [
        "<a href=\"https://colab.research.google.com/github/bl00p1ng/Curso-algebra-lineal-python/blob/main/23_Producto_interno_normas.ipynb\" target=\"_parent\"><img src=\"https://colab.research.google.com/assets/colab-badge.svg\" alt=\"Open In Colab\"/></a>"
      ]
    },
    {
      "cell_type": "markdown",
      "metadata": {
        "id": "EeoNAcfHSKm5"
      },
      "source": [
        "# Clase 23. El producto interno como función de una norma y su visualización"
      ]
    },
    {
      "cell_type": "code",
      "metadata": {
        "id": "i1KE1nI1STil"
      },
      "source": [
        "import numpy as np\n",
        "import matplotlib.pyplot as plt\n",
        "import seaborn as sns"
      ],
      "execution_count": 2,
      "outputs": []
    },
    {
      "cell_type": "code",
      "metadata": {
        "id": "NBUU__i5SZLk"
      },
      "source": [
        "v1 = np.array([0,0,0,3])\n",
        "v2 = np.array([0,0,3,3])"
      ],
      "execution_count": 4,
      "outputs": []
    },
    {
      "cell_type": "code",
      "metadata": {
        "colab": {
          "base_uri": "https://localhost:8080/",
          "height": 286
        },
        "id": "VqkUxryNSqkJ",
        "outputId": "e19559d3-7293-44ec-e3ae-5b59579fbc4a"
      },
      "source": [
        "plt.xlim(-2, 6)\n",
        "plt.ylim(-2, 6)\n",
        "\n",
        "plt.quiver([v1[0], v2[0]],\n",
        "           [v1[1], v2[1]],\n",
        "           [v1[2], v2[2]],\n",
        "           [v1[3], v2[3]],\n",
        "           angles='xy', scale_units='xy',\n",
        "           scale=1, color=sns.color_palette())"
      ],
      "execution_count": 5,
      "outputs": [
        {
          "output_type": "execute_result",
          "data": {
            "text/plain": [
              "<matplotlib.quiver.Quiver at 0x7f23df2175d0>"
            ]
          },
          "metadata": {
            "tags": []
          },
          "execution_count": 5
        },
        {
          "output_type": "display_data",
          "data": {
            "image/png": "[encoded data removed]",
            "text/plain": [
              "<Figure size 432x288 with 1 Axes>"
            ]
          },
          "metadata": {
            "tags": [],
            "needs_background": "light"
          }
        }
      ]
    },
    {
      "cell_type": "markdown",
      "metadata": {
        "id": "xG2KQrZdUn1H"
      },
      "source": [
        "Si se imagina una un cuadrado que rodea a los 2 vectores de arriba, el vector de color naranja partiría en 2 el cuadrado formando un ángulo de 45°"
      ]
    },
    {
      "cell_type": "code",
      "metadata": {
        "colab": {
          "base_uri": "https://localhost:8080/"
        },
        "id": "jXkUJZP8T8U8",
        "outputId": "e77fa7cc-ebc9-455c-fbbd-cf6c1107c41a"
      },
      "source": [
        "v1 = np.array([0,3])\n",
        "v2 = np.array([3,3])\n",
        "\n",
        "v1.T.dot(v2)"
      ],
      "execution_count": 6,
      "outputs": [
        {
          "output_type": "execute_result",
          "data": {
            "text/plain": [
              "9"
            ]
          },
          "metadata": {
            "tags": []
          },
          "execution_count": 6
        }
      ]
    },
    {
      "cell_type": "markdown",
      "metadata": {
        "id": "Px_8x5XsVsBQ"
      },
      "source": [
        "`np.cos()` Calcula el coseno. Recibe radianes.\n",
        "`np.deg2rad()` Convierte de grados a radianes."
      ]
    },
    {
      "cell_type": "code",
      "metadata": {
        "colab": {
          "base_uri": "https://localhost:8080/"
        },
        "id": "TGbrCTkGUJ7w",
        "outputId": "2c42e7b4-768a-4d92-8ae3-3ace85231740"
      },
      "source": [
        "norm_v1 = np.linalg.norm(v1)\n",
        "norm_v2 = np.linalg.norm(v2)\n",
        "\n",
        "norm_v1 * norm_v2 * np.cos(np.deg2rad(45))"
      ],
      "execution_count": 7,
      "outputs": [
        {
          "output_type": "execute_result",
          "data": {
            "text/plain": [
              "9.0"
            ]
          },
          "metadata": {
            "tags": []
          },
          "execution_count": 7
        }
      ]
    }
  ]
}